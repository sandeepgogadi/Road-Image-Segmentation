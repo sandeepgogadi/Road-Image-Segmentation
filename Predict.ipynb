{
 "cells": [
  {
   "cell_type": "code",
   "execution_count": 1,
   "metadata": {},
   "outputs": [
    {
     "name": "stderr",
     "output_type": "stream",
     "text": [
      "Using TensorFlow backend.\n"
     ]
    }
   ],
   "source": [
    "%matplotlib inline\n",
    "import argparse\n",
    "import models\n",
    "import os\n",
    "import time\n",
    "import cv2\n",
    "from keras import backend as K\n",
    "import tensorflow as tf\n",
    "from data_generator import *\n",
    "from utils import prepare_repo\n",
    "from label import labels\n",
    "from matplotlib import pyplot as plt\n",
    "import numpy as np"
   ]
  },
  {
   "cell_type": "code",
   "execution_count": 2,
   "metadata": {},
   "outputs": [],
   "source": [
    "tf.keras.backend.clear_session()"
   ]
  },
  {
   "cell_type": "code",
   "execution_count": 3,
   "metadata": {},
   "outputs": [],
   "source": [
    "config = tf.ConfigProto()\n",
    "config.gpu_options.allow_growth = True\n",
    "sess = tf.Session(config=config)\n",
    "K.set_session(sess)"
   ]
  },
  {
   "cell_type": "code",
   "execution_count": 4,
   "metadata": {},
   "outputs": [],
   "source": [
    "net = 'ICNET'\n",
    "width = 640\n",
    "height = 320\n",
    "num_classes = 20\n",
    "weights_path = 'weights/weights_{}.h5'.format(net)"
   ]
  },
  {
   "cell_type": "code",
   "execution_count": 5,
   "metadata": {},
   "outputs": [
    {
     "name": "stdout",
     "output_type": "stream",
     "text": [
      "ICNET\n"
     ]
    }
   ],
   "source": [
    "model = models.get_model(net, width, height, num_classes, weights_path)"
   ]
  },
  {
   "cell_type": "code",
   "execution_count": 6,
   "metadata": {},
   "outputs": [],
   "source": [
    "img = cv2.imread('test.jpg', 1)\n",
    "img = cv2.resize(img, (width, height))\n",
    "img = img.reshape(-1, *img.shape)"
   ]
  },
  {
   "cell_type": "code",
   "execution_count": 7,
   "metadata": {},
   "outputs": [
    {
     "name": "stdout",
     "output_type": "stream",
     "text": [
      "Generated segmentations in 0.9437873363494873 seconds -- 1.0595607309883388 FPS\n"
     ]
    }
   ],
   "source": [
    "start_time = time.time()\n",
    "pred = model.predict(img, batch_size=1)\n",
    "duration = time.time() - start_time\n",
    "\n",
    "print('Generated segmentations in %s seconds -- %s FPS' % (duration, 1.0/duration))"
   ]
  },
  {
   "cell_type": "code",
   "execution_count": 8,
   "metadata": {},
   "outputs": [
    {
     "name": "stdout",
     "output_type": "stream",
     "text": [
      "(80, 160)\n",
      "[ 0  2  4  5  8  9 10 13 14 19] [3755 2860    2   13 1017    1 3450 1460  232   10]\n"
     ]
    }
   ],
   "source": [
    "pred_img = np.argmax(pred[0], axis=-1)\n",
    "print(pred_img.shape)\n",
    "\n",
    "unique, counts = np.unique(pred_img, return_counts=True)\n",
    "\n",
    "print(unique, counts)"
   ]
  },
  {
   "cell_type": "code",
   "execution_count": 9,
   "metadata": {},
   "outputs": [],
   "source": [
    "col_img = np.zeros((*pred_img.shape, 3), dtype=np.uint8)\n",
    "\n",
    "for label in labels:\n",
    "    color = label.color\n",
    "    trainId = label.trainId\n",
    "    col_img[pred_img == trainId] = color    "
   ]
  },
  {
   "cell_type": "code",
   "execution_count": 10,
   "metadata": {},
   "outputs": [
    {
     "data": {
      "image/png": "[encoded data removed]",
      "text/plain": [
       "<Figure size 432x288 with 1 Axes>"
      ]
     },
     "metadata": {
      "needs_background": "light"
     },
     "output_type": "display_data"
    }
   ],
   "source": [
    "plt.imshow(col_img)\n",
    "plt.axis('off')\n",
    "plt.show()"
   ]
  },
  {
   "cell_type": "code",
   "execution_count": null,
   "metadata": {},
   "outputs": [],
   "source": []
  }
 ],
 "metadata": {
  "kernelspec": {
   "display_name": "Python 3",
   "language": "python",
   "name": "python3"
  },
  "language_info": {
   "codemirror_mode": {
    "name": "ipython",
    "version": 3
   },
   "file_extension": ".py",
   "mimetype": "text/x-python",
   "name": "python",
   "nbconvert_exporter": "python",
   "pygments_lexer": "ipython3",
   "version": "3.6.6"
  }
 },
 "nbformat": 4,
 "nbformat_minor": 2
}
