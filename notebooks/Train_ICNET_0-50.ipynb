{
  "nbformat": 4,
  "nbformat_minor": 0,
  "metadata": {
    "colab": {
      "name": "Road Image Segmentation TPU.ipynb",
      "version": "0.3.2",
      "provenance": [],
      "collapsed_sections": []
    },
    "kernelspec": {
      "name": "python3",
      "display_name": "Python 3"
    },
    "accelerator": "TPU"
  },
  "cells": [
    {
      "metadata": {
        "id": "1ROhMfiveeu5",
        "colab_type": "code",
        "colab": {
          "base_uri": "https://localhost:8080/",
          "height": 136
        },
        "outputId": "e5bf27b1-92eb-4d8b-c84e-cf964f39d0b9"
      },
      "cell_type": "code",
      "source": [
        "!git clone https://github.com/sandeepgogadi/Road-Image-Segmentation"
      ],
      "execution_count": 1,
      "outputs": [
        {
          "output_type": "stream",
          "text": [
            "Cloning into 'Road-Image-Segmentation'...\n",
            "remote: Enumerating objects: 155, done.\u001b[K\n",
            "remote: Counting objects: 100% (155/155), done.\u001b[K\n",
            "remote: Compressing objects: 100% (105/105), done.\u001b[K\n",
            "remote: Total 155 (delta 87), reused 115 (delta 47), pack-reused 0\u001b[K\n",
            "Receiving objects: 100% (155/155), 1.18 MiB | 11.33 MiB/s, done.\n",
            "Resolving deltas: 100% (87/87), done.\n"
          ],
          "name": "stdout"
        }
      ]
    },
    {
      "metadata": {
        "id": "-vu6NEhyejz0",
        "colab_type": "code",
        "colab": {
          "base_uri": "https://localhost:8080/",
          "height": 122
        },
        "outputId": "05ebc2c9-1d05-4eb3-fcfe-66724eaf62dd"
      },
      "cell_type": "code",
      "source": [
        "from google.colab import drive\n",
        "drive.mount('/content/gdrive')"
      ],
      "execution_count": 2,
      "outputs": [
        {
          "output_type": "stream",
          "text": [
            "Go to this URL in a browser: https://accounts.google.com/o/oauth2/auth?client_id=947318989803-6bn6qk8qdgf4n4g3pfee6491hc0brc4i.apps.googleusercontent.com&redirect_uri=urn%3Aietf%3Awg%3Aoauth%3A2.0%3Aoob&scope=email%20https%3A%2F%2Fwww.googleapis.com%2Fauth%2Fdocs.test%20https%3A%2F%2Fwww.googleapis.com%2Fauth%2Fdrive%20https%3A%2F%2Fwww.googleapis.com%2Fauth%2Fdrive.photos.readonly%20https%3A%2F%2Fwww.googleapis.com%2Fauth%2Fpeopleapi.readonly&response_type=code\n",
            "\n",
            "Enter your authorization code:\n",
            "··········\n",
            "Mounted at /content/gdrive\n"
          ],
          "name": "stdout"
        }
      ]
    },
    {
      "metadata": {
        "id": "6-ZGTgnbemZD",
        "colab_type": "code",
        "colab": {
          "base_uri": "https://localhost:8080/",
          "height": 34
        },
        "outputId": "d497089d-63b0-4598-840e-eb5e1ce550fa"
      },
      "cell_type": "code",
      "source": [
        "ls"
      ],
      "execution_count": 3,
      "outputs": [
        {
          "output_type": "stream",
          "text": [
            "\u001b[0m\u001b[01;34mgdrive\u001b[0m/  \u001b[01;34mRoad-Image-Segmentation\u001b[0m/  \u001b[01;34msample_data\u001b[0m/\n"
          ],
          "name": "stdout"
        }
      ]
    },
    {
      "metadata": {
        "id": "56pAdXX6eug3",
        "colab_type": "code",
        "colab": {
          "base_uri": "https://localhost:8080/",
          "height": 34
        },
        "outputId": "4a735f87-7bbb-4ed9-f382-4b4640fc9094"
      },
      "cell_type": "code",
      "source": [
        "cd Road-Image-Segmentation/"
      ],
      "execution_count": 4,
      "outputs": [
        {
          "output_type": "stream",
          "text": [
            "/content/Road-Image-Segmentation\n"
          ],
          "name": "stdout"
        }
      ]
    },
    {
      "metadata": {
        "id": "YCVQCwIiev1A",
        "colab_type": "code",
        "colab": {
          "base_uri": "https://localhost:8080/",
          "height": 68
        },
        "outputId": "45cd2944-63cc-4262-af05-3e0dbd13fa85"
      },
      "cell_type": "code",
      "source": [
        "ls"
      ],
      "execution_count": 5,
      "outputs": [
        {
          "output_type": "stream",
          "text": [
            "callbacks.py             \u001b[0m\u001b[01;32mconfig.json\u001b[0m*       label.py    push.sh    utils.py\n",
            "cityscapes_label.py      data_generator.py  \u001b[01;34mmodels\u001b[0m/     README.md\n",
            "class_weights_640_320.p  history.py         \u001b[01;34mnotebooks\u001b[0m/  train.py\n"
          ],
          "name": "stdout"
        }
      ]
    },
    {
      "metadata": {
        "id": "bLJg_oKzewNe",
        "colab_type": "code",
        "colab": {}
      },
      "cell_type": "code",
      "source": [
        "!cp /content/gdrive/My\\ Drive/seg/data.zip ."
      ],
      "execution_count": 0,
      "outputs": []
    },
    {
      "metadata": {
        "id": "b0KwWbvEexf1",
        "colab_type": "code",
        "colab": {}
      },
      "cell_type": "code",
      "source": [
        "!unzip -q data.zip"
      ],
      "execution_count": 0,
      "outputs": []
    },
    {
      "metadata": {
        "id": "8e9afeCDtja1",
        "colab_type": "code",
        "colab": {
          "base_uri": "https://localhost:8080/",
          "height": 34
        },
        "outputId": "8c2aaae0-69b7-4aa2-a7f0-1d738e4848ca"
      },
      "cell_type": "code",
      "source": [
        "import tensorflow as tf\n",
        "print(tf.__version__)"
      ],
      "execution_count": 8,
      "outputs": [
        {
          "output_type": "stream",
          "text": [
            "1.12.0-rc1\n"
          ],
          "name": "stdout"
        }
      ]
    },
    {
      "metadata": {
        "id": "m9qD6GPUe0l-",
        "colab_type": "code",
        "colab": {
          "base_uri": "https://localhost:8080/",
          "height": 34
        },
        "outputId": "92714f42-86ca-45ab-8914-3220ef874ad7"
      },
      "cell_type": "code",
      "source": [
        "!git pull"
      ],
      "execution_count": 9,
      "outputs": [
        {
          "output_type": "stream",
          "text": [
            "Already up to date.\n"
          ],
          "name": "stdout"
        }
      ]
    },
    {
      "metadata": {
        "id": "vS9s6I-Ve0Me",
        "colab_type": "code",
        "colab": {
          "base_uri": "https://localhost:8080/",
          "height": 68
        },
        "outputId": "6fe29006-5083-476f-94d3-1d2654c67d0a"
      },
      "cell_type": "code",
      "source": [
        "ls"
      ],
      "execution_count": 10,
      "outputs": [
        {
          "output_type": "stream",
          "text": [
            "callbacks.py             \u001b[0m\u001b[01;32mconfig.json\u001b[0m*       data.zip    \u001b[01;34mmodels\u001b[0m/     README.md\n",
            "cityscapes_label.py      \u001b[01;34mdata\u001b[0m/              history.py  \u001b[01;34mnotebooks\u001b[0m/  train.py\n",
            "class_weights_640_320.p  data_generator.py  label.py    push.sh     utils.py\n"
          ],
          "name": "stdout"
        }
      ]
    },
    {
      "metadata": {
        "id": "GHdB39rCe3CH",
        "colab_type": "code",
        "colab": {
          "base_uri": "https://localhost:8080/",
          "height": 3794
        },
        "outputId": "e899c080-5a78-4710-bde6-baeee42809c8"
      },
      "cell_type": "code",
      "source": [
        "# ICNET\n",
        "\n",
        "!python train.py --batch_size 128 --net ICNET --epochs 50 --width 640 --height 320 --use_tpu True"
      ],
      "execution_count": 11,
      "outputs": [
        {
          "output_type": "stream",
          "text": [
            "Using TensorFlow backend.\n",
            "Namespace(batch_size=128, custom_data=False, epochs=50, height=320, lr=0.0001, net='ICNET', num_classes=20, train=True, use_tpu=True, weights_path=None, width=640)\n",
            "Creating folder weights\n",
            "Creating folder history\n",
            "Downloading file weights/vgg16.h5\n",
            "57510KB [00:01, 55073.23KB/s]                       \n",
            "Check the file!\n",
            "Assigned callbacks!\n",
            "Alloted generators\n",
            "Getting class weights\n",
            "Loaded class weights!\n",
            "loaded loss weights\n",
            "Optimizer selected\n",
            "ICNET\n",
            "loaded model\n",
            "2018-10-28 14:46:54.293354: W tensorflow/core/distributed_runtime/rpc/grpc_session.cc:349] GrpcSession::ListDevices will initialize the session with an empty graph and other defaults because the session has not yet been created.\n",
            "WARNING:tensorflow:tpu_model (from tensorflow.contrib.tpu.python.tpu.keras_support) is experimental and may change or be removed at any time, and without warning.\n",
            "TPU setup completed\n",
            "Model compiled\n",
            "Training begin\n",
            "Epoch 1/50\n",
            "217/218 [============================>.] - ETA: 3s - loss: 2.4625 - conv6_cls_loss: 1.4944 - sub24_out_loss: 1.7174 - sub4_out_loss: 1.7571 - conv6_cls_categorical_accuracy: 0.5843 - sub24_out_categorical_accuracy: 0.5061 - sub4_out_categorical_accuracy: 0.4789\n",
            "Epoch 00001: val_conv6_cls_categorical_accuracy improved from -inf to 0.31080, saving model to weights/weights_ICNET.h5\n",
            "218/218 [==============================] - 1027s 5s/step - loss: 2.4599 - conv6_cls_loss: 1.4928 - sub24_out_loss: 1.7156 - sub4_out_loss: 1.7556 - conv6_cls_categorical_accuracy: 0.5847 - sub24_out_categorical_accuracy: 0.5065 - sub4_out_categorical_accuracy: 0.4793 - val_loss: 4.8368 - val_conv6_cls_loss: 2.8044 - val_sub24_out_loss: 3.3585 - val_sub4_out_loss: 4.3068 - val_conv6_cls_categorical_accuracy: 0.3108 - val_sub24_out_categorical_accuracy: 0.2978 - val_sub4_out_categorical_accuracy: 0.2882\n",
            "Epoch 2/50\n",
            "217/218 [============================>.] - ETA: 3s - loss: 1.8787 - conv6_cls_loss: 1.1477 - sub24_out_loss: 1.2743 - sub4_out_loss: 1.3832 - conv6_cls_categorical_accuracy: 0.6625 - sub24_out_categorical_accuracy: 0.6209 - sub4_out_categorical_accuracy: 0.5850\n",
            "Epoch 00002: val_conv6_cls_categorical_accuracy improved from 0.31080 to 0.57177, saving model to weights/weights_ICNET.h5\n",
            "218/218 [==============================] - 780s 4s/step - loss: 1.8779 - conv6_cls_loss: 1.1472 - sub24_out_loss: 1.2738 - sub4_out_loss: 1.3825 - conv6_cls_categorical_accuracy: 0.6627 - sub24_out_categorical_accuracy: 0.6211 - sub4_out_categorical_accuracy: 0.5852 - val_loss: 2.3495 - val_conv6_cls_loss: 1.4659 - val_sub24_out_loss: 1.5589 - val_sub4_out_loss: 1.6253 - val_conv6_cls_categorical_accuracy: 0.5718 - val_sub24_out_categorical_accuracy: 0.5479 - val_sub4_out_categorical_accuracy: 0.5225\n",
            "Epoch 3/50\n",
            "217/218 [============================>.] - ETA: 3s - loss: 1.7459 - conv6_cls_loss: 1.0696 - sub24_out_loss: 1.1783 - sub4_out_loss: 1.2813 - conv6_cls_categorical_accuracy: 0.6857 - sub24_out_categorical_accuracy: 0.6499 - sub4_out_categorical_accuracy: 0.6166\n",
            "Epoch 00003: val_conv6_cls_categorical_accuracy improved from 0.57177 to 0.67307, saving model to weights/weights_ICNET.h5\n",
            "218/218 [==============================] - 794s 4s/step - loss: 1.7458 - conv6_cls_loss: 1.0695 - sub24_out_loss: 1.1782 - sub4_out_loss: 1.2813 - conv6_cls_categorical_accuracy: 0.6858 - sub24_out_categorical_accuracy: 0.6499 - sub4_out_categorical_accuracy: 0.6166 - val_loss: 1.7874 - val_conv6_cls_loss: 1.0990 - val_sub24_out_loss: 1.1953 - val_sub4_out_loss: 1.3141 - val_conv6_cls_categorical_accuracy: 0.6731 - val_sub24_out_categorical_accuracy: 0.6434 - val_sub4_out_categorical_accuracy: 0.6103\n",
            "Epoch 4/50\n",
            "217/218 [============================>.] - ETA: 3s - loss: 1.6747 - conv6_cls_loss: 1.0277 - sub24_out_loss: 1.1275 - sub4_out_loss: 1.2247 - conv6_cls_categorical_accuracy: 0.6986 - sub24_out_categorical_accuracy: 0.6653 - sub4_out_categorical_accuracy: 0.6339\n",
            "Epoch 00004: val_conv6_cls_categorical_accuracy improved from 0.67307 to 0.69812, saving model to weights/weights_ICNET.h5\n",
            "218/218 [==============================] - 777s 4s/step - loss: 1.6743 - conv6_cls_loss: 1.0275 - sub24_out_loss: 1.1273 - sub4_out_loss: 1.2245 - conv6_cls_categorical_accuracy: 0.6986 - sub24_out_categorical_accuracy: 0.6653 - sub4_out_categorical_accuracy: 0.6340 - val_loss: 1.6722 - val_conv6_cls_loss: 1.0282 - val_sub24_out_loss: 1.1229 - val_sub4_out_loss: 1.2182 - val_conv6_cls_categorical_accuracy: 0.6981 - val_sub24_out_categorical_accuracy: 0.6659 - val_sub4_out_categorical_accuracy: 0.6295\n",
            "Epoch 5/50\n",
            "217/218 [============================>.] - ETA: 3s - loss: 1.6144 - conv6_cls_loss: 0.9907 - sub24_out_loss: 1.0877 - sub4_out_loss: 1.1789 - conv6_cls_categorical_accuracy: 0.7104 - sub24_out_categorical_accuracy: 0.6787 - sub4_out_categorical_accuracy: 0.6486\n",
            "Epoch 00005: val_conv6_cls_categorical_accuracy improved from 0.69812 to 0.69952, saving model to weights/weights_ICNET.h5\n",
            "218/218 [==============================] - 768s 4s/step - loss: 1.6142 - conv6_cls_loss: 0.9906 - sub24_out_loss: 1.0875 - sub4_out_loss: 1.1788 - conv6_cls_categorical_accuracy: 0.7104 - sub24_out_categorical_accuracy: 0.6787 - sub4_out_categorical_accuracy: 0.6486 - val_loss: 1.6449 - val_conv6_cls_loss: 1.0128 - val_sub24_out_loss: 1.1074 - val_sub4_out_loss: 1.1817 - val_conv6_cls_categorical_accuracy: 0.6995 - val_sub24_out_categorical_accuracy: 0.6686 - val_sub4_out_categorical_accuracy: 0.6431\n",
            "Epoch 6/50\n",
            "217/218 [============================>.] - ETA: 3s - loss: 1.5660 - conv6_cls_loss: 0.9611 - sub24_out_loss: 1.0552 - sub4_out_loss: 1.1420 - conv6_cls_categorical_accuracy: 0.7194 - sub24_out_categorical_accuracy: 0.6890 - sub4_out_categorical_accuracy: 0.6597\n",
            "Epoch 00006: val_conv6_cls_categorical_accuracy improved from 0.69952 to 0.70815, saving model to weights/weights_ICNET.h5\n",
            "218/218 [==============================] - 792s 4s/step - loss: 1.5654 - conv6_cls_loss: 0.9608 - sub24_out_loss: 1.0549 - sub4_out_loss: 1.1417 - conv6_cls_categorical_accuracy: 0.7195 - sub24_out_categorical_accuracy: 0.6891 - sub4_out_categorical_accuracy: 0.6598 - val_loss: 1.6196 - val_conv6_cls_loss: 0.9884 - val_sub24_out_loss: 1.0952 - val_sub4_out_loss: 1.2069 - val_conv6_cls_categorical_accuracy: 0.7081 - val_sub24_out_categorical_accuracy: 0.6756 - val_sub4_out_categorical_accuracy: 0.6369\n",
            "Epoch 7/50\n",
            "217/218 [============================>.] - ETA: 3s - loss: 1.5259 - conv6_cls_loss: 0.9371 - sub24_out_loss: 1.0286 - sub4_out_loss: 1.1090 - conv6_cls_categorical_accuracy: 0.7276 - sub24_out_categorical_accuracy: 0.6984 - sub4_out_categorical_accuracy: 0.6711\n",
            "Epoch 00007: val_conv6_cls_categorical_accuracy improved from 0.70815 to 0.71768, saving model to weights/weights_ICNET.h5\n",
            "218/218 [==============================] - 795s 4s/step - loss: 1.5264 - conv6_cls_loss: 0.9373 - sub24_out_loss: 1.0289 - sub4_out_loss: 1.1093 - conv6_cls_categorical_accuracy: 0.7276 - sub24_out_categorical_accuracy: 0.6983 - sub4_out_categorical_accuracy: 0.6710 - val_loss: 1.5674 - val_conv6_cls_loss: 0.9706 - val_sub24_out_loss: 1.0439 - val_sub4_out_loss: 1.1201 - val_conv6_cls_categorical_accuracy: 0.7177 - val_sub24_out_categorical_accuracy: 0.6927 - val_sub4_out_categorical_accuracy: 0.6684\n",
            "Epoch 8/50\n",
            "217/218 [============================>.] - ETA: 3s - loss: 1.4931 - conv6_cls_loss: 0.9169 - sub24_out_loss: 1.0067 - sub4_out_loss: 1.0846 - conv6_cls_categorical_accuracy: 0.7340 - sub24_out_categorical_accuracy: 0.7056 - sub4_out_categorical_accuracy: 0.6787\n",
            "Epoch 00008: val_conv6_cls_categorical_accuracy improved from 0.71768 to 0.72925, saving model to weights/weights_ICNET.h5\n",
            "218/218 [==============================] - 773s 4s/step - loss: 1.4930 - conv6_cls_loss: 0.9168 - sub24_out_loss: 1.0066 - sub4_out_loss: 1.0845 - conv6_cls_categorical_accuracy: 0.7341 - sub24_out_categorical_accuracy: 0.7057 - sub4_out_categorical_accuracy: 0.6788 - val_loss: 1.5349 - val_conv6_cls_loss: 0.9380 - val_sub24_out_loss: 1.0431 - val_sub4_out_loss: 1.1234 - val_conv6_cls_categorical_accuracy: 0.7292 - val_sub24_out_categorical_accuracy: 0.6980 - val_sub4_out_categorical_accuracy: 0.6681\n",
            "Epoch 9/50\n",
            "217/218 [============================>.] - ETA: 3s - loss: 1.4569 - conv6_cls_loss: 0.8946 - sub24_out_loss: 0.9827 - sub4_out_loss: 1.0580 - conv6_cls_categorical_accuracy: 0.7403 - sub24_out_categorical_accuracy: 0.7130 - sub4_out_categorical_accuracy: 0.6872\n",
            "Epoch 00009: val_conv6_cls_categorical_accuracy improved from 0.72925 to 0.73383, saving model to weights/weights_ICNET.h5\n",
            "218/218 [==============================] - 800s 4s/step - loss: 1.4570 - conv6_cls_loss: 0.8947 - sub24_out_loss: 0.9828 - sub4_out_loss: 1.0580 - conv6_cls_categorical_accuracy: 0.7403 - sub24_out_categorical_accuracy: 0.7130 - sub4_out_categorical_accuracy: 0.6871 - val_loss: 1.4864 - val_conv6_cls_loss: 0.9164 - val_sub24_out_loss: 0.9964 - val_sub4_out_loss: 1.0714 - val_conv6_cls_categorical_accuracy: 0.7338 - val_sub24_out_categorical_accuracy: 0.7097 - val_sub4_out_categorical_accuracy: 0.6821\n",
            "Epoch 10/50\n",
            "217/218 [============================>.] - ETA: 3s - loss: 1.4324 - conv6_cls_loss: 0.8797 - sub24_out_loss: 0.9659 - sub4_out_loss: 1.0397 - conv6_cls_categorical_accuracy: 0.7454 - sub24_out_categorical_accuracy: 0.7190 - sub4_out_categorical_accuracy: 0.6936\n",
            "Epoch 00010: val_conv6_cls_categorical_accuracy improved from 0.73383 to 0.73889, saving model to weights/weights_ICNET.h5\n",
            "218/218 [==============================] - 799s 4s/step - loss: 1.4323 - conv6_cls_loss: 0.8796 - sub24_out_loss: 0.9658 - sub4_out_loss: 1.0396 - conv6_cls_categorical_accuracy: 0.7455 - sub24_out_categorical_accuracy: 0.7190 - sub4_out_categorical_accuracy: 0.6936 - val_loss: 1.4656 - val_conv6_cls_loss: 0.8994 - val_sub24_out_loss: 0.9906 - val_sub4_out_loss: 1.0621 - val_conv6_cls_categorical_accuracy: 0.7389 - val_sub24_out_categorical_accuracy: 0.7121 - val_sub4_out_categorical_accuracy: 0.6865\n",
            "Epoch 11/50\n",
            "217/218 [============================>.] - ETA: 3s - loss: 1.4035 - conv6_cls_loss: 0.8617 - sub24_out_loss: 0.9467 - sub4_out_loss: 1.0194 - conv6_cls_categorical_accuracy: 0.7508 - sub24_out_categorical_accuracy: 0.7252 - sub4_out_categorical_accuracy: 0.7001\n",
            "Epoch 00011: val_conv6_cls_categorical_accuracy improved from 0.73889 to 0.74596, saving model to weights/weights_ICNET.h5\n",
            "218/218 [==============================] - 800s 4s/step - loss: 1.4035 - conv6_cls_loss: 0.8617 - sub24_out_loss: 0.9467 - sub4_out_loss: 1.0194 - conv6_cls_categorical_accuracy: 0.7508 - sub24_out_categorical_accuracy: 0.7252 - sub4_out_categorical_accuracy: 0.7001 - val_loss: 1.4223 - val_conv6_cls_loss: 0.8785 - val_sub24_out_loss: 0.9496 - val_sub4_out_loss: 1.0252 - val_conv6_cls_categorical_accuracy: 0.7460 - val_sub24_out_categorical_accuracy: 0.7250 - val_sub4_out_categorical_accuracy: 0.6991\n",
            "Epoch 12/50\n",
            "217/218 [============================>.] - ETA: 3s - loss: 1.3758 - conv6_cls_loss: 0.8444 - sub24_out_loss: 0.9280 - sub4_out_loss: 1.0016 - conv6_cls_categorical_accuracy: 0.7560 - sub24_out_categorical_accuracy: 0.7312 - sub4_out_categorical_accuracy: 0.7064\n",
            "Epoch 00012: val_conv6_cls_categorical_accuracy did not improve from 0.74596\n",
            "218/218 [==============================] - 787s 4s/step - loss: 1.3754 - conv6_cls_loss: 0.8441 - sub24_out_loss: 0.9277 - sub4_out_loss: 1.0013 - conv6_cls_categorical_accuracy: 0.7561 - sub24_out_categorical_accuracy: 0.7313 - sub4_out_categorical_accuracy: 0.7065 - val_loss: 1.4330 - val_conv6_cls_loss: 0.8791 - val_sub24_out_loss: 0.9673 - val_sub4_out_loss: 1.0432 - val_conv6_cls_categorical_accuracy: 0.7433 - val_sub24_out_categorical_accuracy: 0.7176 - val_sub4_out_categorical_accuracy: 0.6921\n",
            "Epoch 13/50\n",
            "217/218 [============================>.] - ETA: 3s - loss: 1.3523 - conv6_cls_loss: 0.8297 - sub24_out_loss: 0.9122 - sub4_out_loss: 0.9861 - conv6_cls_categorical_accuracy: 0.7609 - sub24_out_categorical_accuracy: 0.7365 - sub4_out_categorical_accuracy: 0.7118\n",
            "Epoch 00013: val_conv6_cls_categorical_accuracy did not improve from 0.74596\n",
            "218/218 [==============================] - 785s 4s/step - loss: 1.3522 - conv6_cls_loss: 0.8296 - sub24_out_loss: 0.9121 - sub4_out_loss: 0.9859 - conv6_cls_categorical_accuracy: 0.7610 - sub24_out_categorical_accuracy: 0.7365 - sub4_out_categorical_accuracy: 0.7119 - val_loss: 1.4468 - val_conv6_cls_loss: 0.8848 - val_sub24_out_loss: 0.9847 - val_sub4_out_loss: 1.0511 - val_conv6_cls_categorical_accuracy: 0.7446 - val_sub24_out_categorical_accuracy: 0.7170 - val_sub4_out_categorical_accuracy: 0.6926\n",
            "Epoch 14/50\n",
            "217/218 [============================>.] - ETA: 3s - loss: 1.3316 - conv6_cls_loss: 0.8169 - sub24_out_loss: 0.8980 - sub4_out_loss: 0.9718 - conv6_cls_categorical_accuracy: 0.7647 - sub24_out_categorical_accuracy: 0.7410 - sub4_out_categorical_accuracy: 0.7165\n",
            "Epoch 00014: val_conv6_cls_categorical_accuracy did not improve from 0.74596\n",
            "218/218 [==============================] - 749s 3s/step - loss: 1.3312 - conv6_cls_loss: 0.8166 - sub24_out_loss: 0.8977 - sub4_out_loss: 0.9716 - conv6_cls_categorical_accuracy: 0.7648 - sub24_out_categorical_accuracy: 0.7411 - sub4_out_categorical_accuracy: 0.7166 - val_loss: 1.4259 - val_conv6_cls_loss: 0.8764 - val_sub24_out_loss: 0.9615 - val_sub4_out_loss: 1.0304 - val_conv6_cls_categorical_accuracy: 0.7447 - val_sub24_out_categorical_accuracy: 0.7208 - val_sub4_out_categorical_accuracy: 0.6965\n",
            "Epoch 15/50\n",
            "217/218 [============================>.] - ETA: 3s - loss: 1.3139 - conv6_cls_loss: 0.8057 - sub24_out_loss: 0.8859 - sub4_out_loss: 0.9615 - conv6_cls_categorical_accuracy: 0.7680 - sub24_out_categorical_accuracy: 0.7447 - sub4_out_categorical_accuracy: 0.7200\n",
            "Epoch 00015: val_conv6_cls_categorical_accuracy improved from 0.74596 to 0.74768, saving model to weights/weights_ICNET.h5\n",
            "218/218 [==============================] - 759s 3s/step - loss: 1.3138 - conv6_cls_loss: 0.8056 - sub24_out_loss: 0.8858 - sub4_out_loss: 0.9614 - conv6_cls_categorical_accuracy: 0.7680 - sub24_out_categorical_accuracy: 0.7447 - sub4_out_categorical_accuracy: 0.7200 - val_loss: 1.4125 - val_conv6_cls_loss: 0.8664 - val_sub24_out_loss: 0.9498 - val_sub4_out_loss: 1.0388 - val_conv6_cls_categorical_accuracy: 0.7477 - val_sub24_out_categorical_accuracy: 0.7224 - val_sub4_out_categorical_accuracy: 0.6880\n",
            "Epoch 16/50\n",
            "217/218 [============================>.] - ETA: 3s - loss: 1.2923 - conv6_cls_loss: 0.7921 - sub24_out_loss: 0.8712 - sub4_out_loss: 0.9479 - conv6_cls_categorical_accuracy: 0.7718 - sub24_out_categorical_accuracy: 0.7488 - sub4_out_categorical_accuracy: 0.7240\n",
            "Epoch 00016: val_conv6_cls_categorical_accuracy improved from 0.74768 to 0.75212, saving model to weights/weights_ICNET.h5\n",
            "218/218 [==============================] - 767s 4s/step - loss: 1.2920 - conv6_cls_loss: 0.7920 - sub24_out_loss: 0.8711 - sub4_out_loss: 0.9477 - conv6_cls_categorical_accuracy: 0.7719 - sub24_out_categorical_accuracy: 0.7489 - sub4_out_categorical_accuracy: 0.7241 - val_loss: 1.4079 - val_conv6_cls_loss: 0.8671 - val_sub24_out_loss: 0.9452 - val_sub4_out_loss: 1.0170 - val_conv6_cls_categorical_accuracy: 0.7521 - val_sub24_out_categorical_accuracy: 0.7285 - val_sub4_out_categorical_accuracy: 0.7060\n",
            "Epoch 17/50\n",
            "217/218 [============================>.] - ETA: 3s - loss: 1.2668 - conv6_cls_loss: 0.7760 - sub24_out_loss: 0.8543 - sub4_out_loss: 0.9320 - conv6_cls_categorical_accuracy: 0.7770 - sub24_out_categorical_accuracy: 0.7545 - sub4_out_categorical_accuracy: 0.7293\n",
            "Epoch 00017: val_conv6_cls_categorical_accuracy improved from 0.75212 to 0.75463, saving model to weights/weights_ICNET.h5\n",
            "218/218 [==============================] - 762s 3s/step - loss: 1.2667 - conv6_cls_loss: 0.7759 - sub24_out_loss: 0.8542 - sub4_out_loss: 0.9320 - conv6_cls_categorical_accuracy: 0.7770 - sub24_out_categorical_accuracy: 0.7545 - sub4_out_categorical_accuracy: 0.7293 - val_loss: 1.3687 - val_conv6_cls_loss: 0.8408 - val_sub24_out_loss: 0.9220 - val_sub4_out_loss: 0.9940 - val_conv6_cls_categorical_accuracy: 0.7546 - val_sub24_out_categorical_accuracy: 0.7314 - val_sub4_out_categorical_accuracy: 0.7063\n",
            "Epoch 18/50\n",
            "217/218 [============================>.] - ETA: 3s - loss: 1.2527 - conv6_cls_loss: 0.7670 - sub24_out_loss: 0.8449 - sub4_out_loss: 0.9239 - conv6_cls_categorical_accuracy: 0.7807 - sub24_out_categorical_accuracy: 0.7583 - sub4_out_categorical_accuracy: 0.7328\n",
            "Epoch 00018: val_conv6_cls_categorical_accuracy improved from 0.75463 to 0.76010, saving model to weights/weights_ICNET.h5\n",
            "218/218 [==============================] - 766s 4s/step - loss: 1.2527 - conv6_cls_loss: 0.7669 - sub24_out_loss: 0.8448 - sub4_out_loss: 0.9239 - conv6_cls_categorical_accuracy: 0.7806 - sub24_out_categorical_accuracy: 0.7583 - sub4_out_categorical_accuracy: 0.7328 - val_loss: 1.3555 - val_conv6_cls_loss: 0.8333 - val_sub24_out_loss: 0.9104 - val_sub4_out_loss: 0.9873 - val_conv6_cls_categorical_accuracy: 0.7601 - val_sub24_out_categorical_accuracy: 0.7377 - val_sub4_out_categorical_accuracy: 0.7121\n",
            "Epoch 19/50\n",
            "217/218 [============================>.] - ETA: 3s - loss: 1.2252 - conv6_cls_loss: 0.7493 - sub24_out_loss: 0.8269 - sub4_out_loss: 0.9073 - conv6_cls_categorical_accuracy: 0.7856 - sub24_out_categorical_accuracy: 0.7636 - sub4_out_categorical_accuracy: 0.7379\n",
            "Epoch 00019: val_conv6_cls_categorical_accuracy did not improve from 0.76010\n",
            "218/218 [==============================] - 760s 3s/step - loss: 1.2253 - conv6_cls_loss: 0.7494 - sub24_out_loss: 0.8269 - sub4_out_loss: 0.9073 - conv6_cls_categorical_accuracy: 0.7856 - sub24_out_categorical_accuracy: 0.7636 - sub4_out_categorical_accuracy: 0.7379 - val_loss: 1.3618 - val_conv6_cls_loss: 0.8403 - val_sub24_out_loss: 0.9107 - val_sub4_out_loss: 0.9827 - val_conv6_cls_categorical_accuracy: 0.7589 - val_sub24_out_categorical_accuracy: 0.7398 - val_sub4_out_categorical_accuracy: 0.7139\n",
            "Epoch 20/50\n",
            "217/218 [============================>.] - ETA: 3s - loss: 1.2022 - conv6_cls_loss: 0.7343 - sub24_out_loss: 0.8119 - sub4_out_loss: 0.8942 - conv6_cls_categorical_accuracy: 0.7902 - sub24_out_categorical_accuracy: 0.7683 - sub4_out_categorical_accuracy: 0.7421\n",
            "Epoch 00020: val_conv6_cls_categorical_accuracy did not improve from 0.76010\n",
            "218/218 [==============================] - 755s 3s/step - loss: 1.2023 - conv6_cls_loss: 0.7344 - sub24_out_loss: 0.8120 - sub4_out_loss: 0.8943 - conv6_cls_categorical_accuracy: 0.7902 - sub24_out_categorical_accuracy: 0.7682 - sub4_out_categorical_accuracy: 0.7421 - val_loss: 1.3728 - val_conv6_cls_loss: 0.8452 - val_sub24_out_loss: 0.9218 - val_sub4_out_loss: 0.9931 - val_conv6_cls_categorical_accuracy: 0.7576 - val_sub24_out_categorical_accuracy: 0.7351 - val_sub4_out_categorical_accuracy: 0.7106\n",
            "Epoch 21/50\n",
            "217/218 [============================>.] - ETA: 3s - loss: 1.1778 - conv6_cls_loss: 0.7187 - sub24_out_loss: 0.7961 - sub4_out_loss: 0.8791 - conv6_cls_categorical_accuracy: 0.7952 - sub24_out_categorical_accuracy: 0.7735 - sub4_out_categorical_accuracy: 0.7472\n",
            "Epoch 00021: val_conv6_cls_categorical_accuracy improved from 0.76010 to 0.76480, saving model to weights/weights_ICNET.h5\n",
            "218/218 [==============================] - 777s 4s/step - loss: 1.1778 - conv6_cls_loss: 0.7187 - sub24_out_loss: 0.7962 - sub4_out_loss: 0.8792 - conv6_cls_categorical_accuracy: 0.7952 - sub24_out_categorical_accuracy: 0.7734 - sub4_out_categorical_accuracy: 0.7472 - val_loss: 1.3321 - val_conv6_cls_loss: 0.8190 - val_sub24_out_loss: 0.8961 - val_sub4_out_loss: 0.9668 - val_conv6_cls_categorical_accuracy: 0.7648 - val_sub24_out_categorical_accuracy: 0.7423 - val_sub4_out_categorical_accuracy: 0.7188\n",
            "Epoch 22/50\n",
            "217/218 [============================>.] - ETA: 3s - loss: 1.1612 - conv6_cls_loss: 0.7082 - sub24_out_loss: 0.7843 - sub4_out_loss: 0.8705 - conv6_cls_categorical_accuracy: 0.7986 - sub24_out_categorical_accuracy: 0.7774 - sub4_out_categorical_accuracy: 0.7505\n",
            "Epoch 00022: val_conv6_cls_categorical_accuracy did not improve from 0.76480\n",
            "218/218 [==============================] - 762s 3s/step - loss: 1.1613 - conv6_cls_loss: 0.7082 - sub24_out_loss: 0.7843 - sub4_out_loss: 0.8705 - conv6_cls_categorical_accuracy: 0.7986 - sub24_out_categorical_accuracy: 0.7774 - sub4_out_categorical_accuracy: 0.7505 - val_loss: 1.3618 - val_conv6_cls_loss: 0.8385 - val_sub24_out_loss: 0.9127 - val_sub4_out_loss: 0.9883 - val_conv6_cls_categorical_accuracy: 0.7608 - val_sub24_out_categorical_accuracy: 0.7394 - val_sub4_out_categorical_accuracy: 0.7155\n",
            "Epoch 23/50\n",
            "217/218 [============================>.] - ETA: 3s - loss: 1.1454 - conv6_cls_loss: 0.6978 - sub24_out_loss: 0.7744 - sub4_out_loss: 0.8615 - conv6_cls_categorical_accuracy: 0.8023 - sub24_out_categorical_accuracy: 0.7810 - sub4_out_categorical_accuracy: 0.7537\n",
            "Epoch 00023: val_conv6_cls_categorical_accuracy did not improve from 0.76480\n",
            "218/218 [==============================] - 763s 4s/step - loss: 1.1455 - conv6_cls_loss: 0.6979 - sub24_out_loss: 0.7745 - sub4_out_loss: 0.8616 - conv6_cls_categorical_accuracy: 0.8022 - sub24_out_categorical_accuracy: 0.7809 - sub4_out_categorical_accuracy: 0.7537 - val_loss: 1.3649 - val_conv6_cls_loss: 0.8431 - val_sub24_out_loss: 0.9098 - val_sub4_out_loss: 0.9868 - val_conv6_cls_categorical_accuracy: 0.7549 - val_sub24_out_categorical_accuracy: 0.7365 - val_sub4_out_categorical_accuracy: 0.7110\n",
            "Epoch 24/50\n",
            "217/218 [============================>.] - ETA: 3s - loss: 1.1239 - conv6_cls_loss: 0.6840 - sub24_out_loss: 0.7603 - sub4_out_loss: 0.8483 - conv6_cls_categorical_accuracy: 0.8064 - sub24_out_categorical_accuracy: 0.7854 - sub4_out_categorical_accuracy: 0.7580\n",
            "Epoch 00024: val_conv6_cls_categorical_accuracy did not improve from 0.76480\n",
            "218/218 [==============================] - 748s 3s/step - loss: 1.1239 - conv6_cls_loss: 0.6840 - sub24_out_loss: 0.7604 - sub4_out_loss: 0.8484 - conv6_cls_categorical_accuracy: 0.8064 - sub24_out_categorical_accuracy: 0.7854 - sub4_out_categorical_accuracy: 0.7579 - val_loss: 1.3709 - val_conv6_cls_loss: 0.8438 - val_sub24_out_loss: 0.9234 - val_sub4_out_loss: 0.9856 - val_conv6_cls_categorical_accuracy: 0.7632 - val_sub24_out_categorical_accuracy: 0.7411 - val_sub4_out_categorical_accuracy: 0.7185\n",
            "Epoch 25/50\n",
            "217/218 [============================>.] - ETA: 3s - loss: 1.1121 - conv6_cls_loss: 0.6767 - sub24_out_loss: 0.7518 - sub4_out_loss: 0.8419 - conv6_cls_categorical_accuracy: 0.8088 - sub24_out_categorical_accuracy: 0.7881 - sub4_out_categorical_accuracy: 0.7600\n",
            "Epoch 00025: val_conv6_cls_categorical_accuracy did not improve from 0.76480\n",
            "218/218 [==============================] - 764s 4s/step - loss: 1.1123 - conv6_cls_loss: 0.6768 - sub24_out_loss: 0.7519 - sub4_out_loss: 0.8420 - conv6_cls_categorical_accuracy: 0.8087 - sub24_out_categorical_accuracy: 0.7881 - sub4_out_categorical_accuracy: 0.7600 - val_loss: 1.3770 - val_conv6_cls_loss: 0.8479 - val_sub24_out_loss: 0.9240 - val_sub4_out_loss: 0.9966 - val_conv6_cls_categorical_accuracy: 0.7642 - val_sub24_out_categorical_accuracy: 0.7412 - val_sub4_out_categorical_accuracy: 0.7126\n",
            "Epoch 26/50\n",
            "217/218 [============================>.] - ETA: 3s - loss: 1.0911 - conv6_cls_loss: 0.6631 - sub24_out_loss: 0.7387 - sub4_out_loss: 0.8285 - conv6_cls_categorical_accuracy: 0.8132 - sub24_out_categorical_accuracy: 0.7926 - sub4_out_categorical_accuracy: 0.7646\n",
            "Epoch 00026: val_conv6_cls_categorical_accuracy improved from 0.76480 to 0.76570, saving model to weights/weights_ICNET.h5\n",
            "218/218 [==============================] - 779s 4s/step - loss: 1.0909 - conv6_cls_loss: 0.6629 - sub24_out_loss: 0.7386 - sub4_out_loss: 0.8284 - conv6_cls_categorical_accuracy: 0.8132 - sub24_out_categorical_accuracy: 0.7927 - sub4_out_categorical_accuracy: 0.7647 - val_loss: 1.3504 - val_conv6_cls_loss: 0.8350 - val_sub24_out_loss: 0.9003 - val_sub4_out_loss: 0.9706 - val_conv6_cls_categorical_accuracy: 0.7657 - val_sub24_out_categorical_accuracy: 0.7457 - val_sub4_out_categorical_accuracy: 0.7216\n",
            "Epoch 27/50\n",
            "217/218 [============================>.] - ETA: 3s - loss: 1.0727 - conv6_cls_loss: 0.6506 - sub24_out_loss: 0.7276 - sub4_out_loss: 0.8195 - conv6_cls_categorical_accuracy: 0.8175 - sub24_out_categorical_accuracy: 0.7968 - sub4_out_categorical_accuracy: 0.7682\n",
            "Epoch 00027: val_conv6_cls_categorical_accuracy did not improve from 0.76570\n",
            "218/218 [==============================] - 761s 3s/step - loss: 1.0727 - conv6_cls_loss: 0.6506 - sub24_out_loss: 0.7276 - sub4_out_loss: 0.8195 - conv6_cls_categorical_accuracy: 0.8175 - sub24_out_categorical_accuracy: 0.7968 - sub4_out_categorical_accuracy: 0.7683 - val_loss: 1.3892 - val_conv6_cls_loss: 0.8585 - val_sub24_out_loss: 0.9277 - val_sub4_out_loss: 0.9978 - val_conv6_cls_categorical_accuracy: 0.7508 - val_sub24_out_categorical_accuracy: 0.7318 - val_sub4_out_categorical_accuracy: 0.7072\n",
            "Epoch 28/50\n",
            "217/218 [============================>.] - ETA: 3s - loss: 1.0722 - conv6_cls_loss: 0.6504 - sub24_out_loss: 0.7265 - sub4_out_loss: 0.8204 - conv6_cls_categorical_accuracy: 0.8177 - sub24_out_categorical_accuracy: 0.7972 - sub4_out_categorical_accuracy: 0.7680\n",
            "Epoch 00028: val_conv6_cls_categorical_accuracy did not improve from 0.76570\n",
            "218/218 [==============================] - 763s 4s/step - loss: 1.0723 - conv6_cls_loss: 0.6504 - sub24_out_loss: 0.7265 - sub4_out_loss: 0.8204 - conv6_cls_categorical_accuracy: 0.8177 - sub24_out_categorical_accuracy: 0.7972 - sub4_out_categorical_accuracy: 0.7679 - val_loss: 1.3462 - val_conv6_cls_loss: 0.8346 - val_sub24_out_loss: 0.8958 - val_sub4_out_loss: 0.9581 - val_conv6_cls_categorical_accuracy: 0.7651 - val_sub24_out_categorical_accuracy: 0.7482 - val_sub4_out_categorical_accuracy: 0.7252\n",
            "Epoch 29/50\n",
            "217/218 [============================>.] - ETA: 3s - loss: 1.0585 - conv6_cls_loss: 0.6424 - sub24_out_loss: 0.7163 - sub4_out_loss: 0.8103 - conv6_cls_categorical_accuracy: 0.8199 - sub24_out_categorical_accuracy: 0.7997 - sub4_out_categorical_accuracy: 0.7706\n",
            "Epoch 00029: val_conv6_cls_categorical_accuracy did not improve from 0.76570\n",
            "218/218 [==============================] - 756s 3s/step - loss: 1.0587 - conv6_cls_loss: 0.6425 - sub24_out_loss: 0.7164 - sub4_out_loss: 0.8103 - conv6_cls_categorical_accuracy: 0.8199 - sub24_out_categorical_accuracy: 0.7996 - sub4_out_categorical_accuracy: 0.7705 - val_loss: 1.3875 - val_conv6_cls_loss: 0.8587 - val_sub24_out_loss: 0.9252 - val_sub4_out_loss: 0.9924 - val_conv6_cls_categorical_accuracy: 0.7567 - val_sub24_out_categorical_accuracy: 0.7353 - val_sub4_out_categorical_accuracy: 0.7121\n",
            "Epoch 30/50\n",
            "217/218 [============================>.] - ETA: 3s - loss: 1.0391 - conv6_cls_loss: 0.6297 - sub24_out_loss: 0.7042 - sub4_out_loss: 0.7985 - conv6_cls_categorical_accuracy: 0.8240 - sub24_out_categorical_accuracy: 0.8039 - sub4_out_categorical_accuracy: 0.7747\n",
            "Epoch 00030: val_conv6_cls_categorical_accuracy improved from 0.76570 to 0.76862, saving model to weights/weights_ICNET.h5\n",
            "218/218 [==============================] - 768s 4s/step - loss: 1.0389 - conv6_cls_loss: 0.6295 - sub24_out_loss: 0.7040 - sub4_out_loss: 0.7984 - conv6_cls_categorical_accuracy: 0.8240 - sub24_out_categorical_accuracy: 0.8039 - sub4_out_categorical_accuracy: 0.7748 - val_loss: 1.3550 - val_conv6_cls_loss: 0.8334 - val_sub24_out_loss: 0.9106 - val_sub4_out_loss: 0.9832 - val_conv6_cls_categorical_accuracy: 0.7686 - val_sub24_out_categorical_accuracy: 0.7478 - val_sub4_out_categorical_accuracy: 0.7223\n",
            "Epoch 31/50\n",
            "217/218 [============================>.] - ETA: 3s - loss: 1.0289 - conv6_cls_loss: 0.6234 - sub24_out_loss: 0.6971 - sub4_out_loss: 0.7921 - conv6_cls_categorical_accuracy: 0.8261 - sub24_out_categorical_accuracy: 0.8062 - sub4_out_categorical_accuracy: 0.7770\n",
            "Epoch 00031: val_conv6_cls_categorical_accuracy did not improve from 0.76862\n",
            "218/218 [==============================] - 756s 3s/step - loss: 1.0289 - conv6_cls_loss: 0.6233 - sub24_out_loss: 0.6970 - sub4_out_loss: 0.7921 - conv6_cls_categorical_accuracy: 0.8261 - sub24_out_categorical_accuracy: 0.8063 - sub4_out_categorical_accuracy: 0.7770 - val_loss: 1.3631 - val_conv6_cls_loss: 0.8443 - val_sub24_out_loss: 0.9077 - val_sub4_out_loss: 0.9733 - val_conv6_cls_categorical_accuracy: 0.7640 - val_sub24_out_categorical_accuracy: 0.7452 - val_sub4_out_categorical_accuracy: 0.7201\n",
            "Epoch 32/50\n",
            "217/218 [============================>.] - ETA: 3s - loss: 1.0228 - conv6_cls_loss: 0.6194 - sub24_out_loss: 0.6931 - sub4_out_loss: 0.7887 - conv6_cls_categorical_accuracy: 0.8282 - sub24_out_categorical_accuracy: 0.8084 - sub4_out_categorical_accuracy: 0.7787\n",
            "Epoch 00032: val_conv6_cls_categorical_accuracy did not improve from 0.76862\n",
            "218/218 [==============================] - 763s 4s/step - loss: 1.0228 - conv6_cls_loss: 0.6194 - sub24_out_loss: 0.6931 - sub4_out_loss: 0.7887 - conv6_cls_categorical_accuracy: 0.8282 - sub24_out_categorical_accuracy: 0.8083 - sub4_out_categorical_accuracy: 0.7786 - val_loss: 1.3700 - val_conv6_cls_loss: 0.8438 - val_sub24_out_loss: 0.9189 - val_sub4_out_loss: 0.9911 - val_conv6_cls_categorical_accuracy: 0.7657 - val_sub24_out_categorical_accuracy: 0.7439 - val_sub4_out_categorical_accuracy: 0.7169\n",
            "Epoch 33/50\n",
            "217/218 [============================>.] - ETA: 3s - loss: 1.0145 - conv6_cls_loss: 0.6133 - sub24_out_loss: 0.6886 - sub4_out_loss: 0.7857 - conv6_cls_categorical_accuracy: 0.8292 - sub24_out_categorical_accuracy: 0.8094 - sub4_out_categorical_accuracy: 0.7796\n",
            "Epoch 00033: val_conv6_cls_categorical_accuracy did not improve from 0.76862\n",
            "218/218 [==============================] - 762s 3s/step - loss: 1.0143 - conv6_cls_loss: 0.6132 - sub24_out_loss: 0.6885 - sub4_out_loss: 0.7856 - conv6_cls_categorical_accuracy: 0.8293 - sub24_out_categorical_accuracy: 0.8094 - sub4_out_categorical_accuracy: 0.7795 - val_loss: 1.3661 - val_conv6_cls_loss: 0.8438 - val_sub24_out_loss: 0.9131 - val_sub4_out_loss: 0.9815 - val_conv6_cls_categorical_accuracy: 0.7648 - val_sub24_out_categorical_accuracy: 0.7433 - val_sub4_out_categorical_accuracy: 0.7192\n",
            "Epoch 34/50\n",
            "217/218 [============================>.] - ETA: 3s - loss: 0.9931 - conv6_cls_loss: 0.6002 - sub24_out_loss: 0.6741 - sub4_out_loss: 0.7709 - conv6_cls_categorical_accuracy: 0.8334 - sub24_out_categorical_accuracy: 0.8137 - sub4_out_categorical_accuracy: 0.7838\n",
            "Epoch 00034: val_conv6_cls_categorical_accuracy did not improve from 0.76862\n",
            "218/218 [==============================] - 770s 4s/step - loss: 0.9930 - conv6_cls_loss: 0.6001 - sub24_out_loss: 0.6739 - sub4_out_loss: 0.7708 - conv6_cls_categorical_accuracy: 0.8334 - sub24_out_categorical_accuracy: 0.8137 - sub4_out_categorical_accuracy: 0.7838 - val_loss: 1.3642 - val_conv6_cls_loss: 0.8394 - val_sub24_out_loss: 0.9190 - val_sub4_out_loss: 0.9830 - val_conv6_cls_categorical_accuracy: 0.7660 - val_sub24_out_categorical_accuracy: 0.7440 - val_sub4_out_categorical_accuracy: 0.7195\n",
            "Epoch 35/50\n",
            "217/218 [============================>.] - ETA: 3s - loss: 0.9829 - conv6_cls_loss: 0.5939 - sub24_out_loss: 0.6665 - sub4_out_loss: 0.7651 - conv6_cls_categorical_accuracy: 0.8353 - sub24_out_categorical_accuracy: 0.8160 - sub4_out_categorical_accuracy: 0.7859\n",
            "Epoch 00035: val_conv6_cls_categorical_accuracy improved from 0.76862 to 0.77481, saving model to weights/weights_ICNET.h5\n",
            "218/218 [==============================] - 777s 4s/step - loss: 0.9826 - conv6_cls_loss: 0.5937 - sub24_out_loss: 0.6662 - sub4_out_loss: 0.7648 - conv6_cls_categorical_accuracy: 0.8354 - sub24_out_categorical_accuracy: 0.8161 - sub4_out_categorical_accuracy: 0.7860 - val_loss: 1.3218 - val_conv6_cls_loss: 0.8152 - val_sub24_out_loss: 0.8857 - val_sub4_out_loss: 0.9515 - val_conv6_cls_categorical_accuracy: 0.7748 - val_sub24_out_categorical_accuracy: 0.7562 - val_sub4_out_categorical_accuracy: 0.7335\n",
            "Epoch 36/50\n",
            "217/218 [============================>.] - ETA: 3s - loss: 0.9724 - conv6_cls_loss: 0.5870 - sub24_out_loss: 0.6601 - sub4_out_loss: 0.7586 - conv6_cls_categorical_accuracy: 0.8376 - sub24_out_categorical_accuracy: 0.8183 - sub4_out_categorical_accuracy: 0.7881\n",
            "Epoch 00036: val_conv6_cls_categorical_accuracy did not improve from 0.77481\n",
            "218/218 [==============================] - 753s 3s/step - loss: 0.9723 - conv6_cls_loss: 0.5869 - sub24_out_loss: 0.6600 - sub4_out_loss: 0.7585 - conv6_cls_categorical_accuracy: 0.8377 - sub24_out_categorical_accuracy: 0.8183 - sub4_out_categorical_accuracy: 0.7881 - val_loss: 1.3544 - val_conv6_cls_loss: 0.8365 - val_sub24_out_loss: 0.9046 - val_sub4_out_loss: 0.9753 - val_conv6_cls_categorical_accuracy: 0.7697 - val_sub24_out_categorical_accuracy: 0.7506 - val_sub4_out_categorical_accuracy: 0.7253\n",
            "Epoch 37/50\n",
            "217/218 [============================>.] - ETA: 3s - loss: 0.9722 - conv6_cls_loss: 0.5868 - sub24_out_loss: 0.6596 - sub4_out_loss: 0.7592 - conv6_cls_categorical_accuracy: 0.8377 - sub24_out_categorical_accuracy: 0.8184 - sub4_out_categorical_accuracy: 0.7878\n",
            "Epoch 00037: val_conv6_cls_categorical_accuracy did not improve from 0.77481\n",
            "218/218 [==============================] - 753s 3s/step - loss: 0.9721 - conv6_cls_loss: 0.5868 - sub24_out_loss: 0.6596 - sub4_out_loss: 0.7592 - conv6_cls_categorical_accuracy: 0.8377 - sub24_out_categorical_accuracy: 0.8184 - sub4_out_categorical_accuracy: 0.7878 - val_loss: 1.3942 - val_conv6_cls_loss: 0.8617 - val_sub24_out_loss: 0.9313 - val_sub4_out_loss: 0.9995 - val_conv6_cls_categorical_accuracy: 0.7636 - val_sub24_out_categorical_accuracy: 0.7455 - val_sub4_out_categorical_accuracy: 0.7204\n",
            "Epoch 38/50\n",
            "217/218 [============================>.] - ETA: 3s - loss: 0.9571 - conv6_cls_loss: 0.5767 - sub24_out_loss: 0.6506 - sub4_out_loss: 0.7511 - conv6_cls_categorical_accuracy: 0.8400 - sub24_out_categorical_accuracy: 0.8206 - sub4_out_categorical_accuracy: 0.7900\n",
            "Epoch 00038: val_conv6_cls_categorical_accuracy did not improve from 0.77481\n",
            "218/218 [==============================] - 760s 3s/step - loss: 0.9570 - conv6_cls_loss: 0.5766 - sub24_out_loss: 0.6505 - sub4_out_loss: 0.7511 - conv6_cls_categorical_accuracy: 0.8400 - sub24_out_categorical_accuracy: 0.8207 - sub4_out_categorical_accuracy: 0.7900 - val_loss: 1.3544 - val_conv6_cls_loss: 0.8382 - val_sub24_out_loss: 0.9057 - val_sub4_out_loss: 0.9618 - val_conv6_cls_categorical_accuracy: 0.7720 - val_sub24_out_categorical_accuracy: 0.7524 - val_sub4_out_categorical_accuracy: 0.7293\n",
            "Epoch 39/50\n",
            "217/218 [============================>.] - ETA: 3s - loss: 0.9415 - conv6_cls_loss: 0.5671 - sub24_out_loss: 0.6402 - sub4_out_loss: 0.7395 - conv6_cls_categorical_accuracy: 0.8434 - sub24_out_categorical_accuracy: 0.8243 - sub4_out_categorical_accuracy: 0.7939\n",
            "Epoch 00039: val_conv6_cls_categorical_accuracy did not improve from 0.77481\n",
            "218/218 [==============================] - 760s 3s/step - loss: 0.9418 - conv6_cls_loss: 0.5673 - sub24_out_loss: 0.6404 - sub4_out_loss: 0.7397 - conv6_cls_categorical_accuracy: 0.8434 - sub24_out_categorical_accuracy: 0.8242 - sub4_out_categorical_accuracy: 0.7938 - val_loss: 1.3496 - val_conv6_cls_loss: 0.8352 - val_sub24_out_loss: 0.9014 - val_sub4_out_loss: 0.9616 - val_conv6_cls_categorical_accuracy: 0.7687 - val_sub24_out_categorical_accuracy: 0.7496 - val_sub4_out_categorical_accuracy: 0.7257\n",
            "Epoch 40/50\n",
            "217/218 [============================>.] - ETA: 3s - loss: 0.9390 - conv6_cls_loss: 0.5652 - sub24_out_loss: 0.6385 - sub4_out_loss: 0.7398 - conv6_cls_categorical_accuracy: 0.8444 - sub24_out_categorical_accuracy: 0.8253 - sub4_out_categorical_accuracy: 0.7941\n",
            "Epoch 00040: val_conv6_cls_categorical_accuracy improved from 0.77481 to 0.77627, saving model to weights/weights_ICNET.h5\n",
            "218/218 [==============================] - 781s 4s/step - loss: 0.9389 - conv6_cls_loss: 0.5652 - sub24_out_loss: 0.6385 - sub4_out_loss: 0.7398 - conv6_cls_categorical_accuracy: 0.8444 - sub24_out_categorical_accuracy: 0.8253 - sub4_out_categorical_accuracy: 0.7941 - val_loss: 1.3392 - val_conv6_cls_loss: 0.8263 - val_sub24_out_loss: 0.8974 - val_sub4_out_loss: 0.9620 - val_conv6_cls_categorical_accuracy: 0.7763 - val_sub24_out_categorical_accuracy: 0.7561 - val_sub4_out_categorical_accuracy: 0.7326\n",
            "Epoch 41/50\n",
            "217/218 [============================>.] - ETA: 3s - loss: 0.9443 - conv6_cls_loss: 0.5692 - sub24_out_loss: 0.6412 - sub4_out_loss: 0.7414 - conv6_cls_categorical_accuracy: 0.8436 - sub24_out_categorical_accuracy: 0.8246 - sub4_out_categorical_accuracy: 0.7938\n",
            "Epoch 00041: val_conv6_cls_categorical_accuracy did not improve from 0.77627\n",
            "218/218 [==============================] - 765s 4s/step - loss: 0.9440 - conv6_cls_loss: 0.5690 - sub24_out_loss: 0.6410 - sub4_out_loss: 0.7412 - conv6_cls_categorical_accuracy: 0.8436 - sub24_out_categorical_accuracy: 0.8247 - sub4_out_categorical_accuracy: 0.7939 - val_loss: 1.3587 - val_conv6_cls_loss: 0.8387 - val_sub24_out_loss: 0.9088 - val_sub4_out_loss: 0.9778 - val_conv6_cls_categorical_accuracy: 0.7715 - val_sub24_out_categorical_accuracy: 0.7516 - val_sub4_out_categorical_accuracy: 0.7258\n",
            "Epoch 42/50\n",
            "217/218 [============================>.] - ETA: 3s - loss: 0.9320 - conv6_cls_loss: 0.5616 - sub24_out_loss: 0.6326 - sub4_out_loss: 0.7336 - conv6_cls_categorical_accuracy: 0.8459 - sub24_out_categorical_accuracy: 0.8272 - sub4_out_categorical_accuracy: 0.7961\n",
            "Epoch 00042: val_conv6_cls_categorical_accuracy did not improve from 0.77627\n",
            "218/218 [==============================] - 754s 3s/step - loss: 0.9320 - conv6_cls_loss: 0.5616 - sub24_out_loss: 0.6326 - sub4_out_loss: 0.7336 - conv6_cls_categorical_accuracy: 0.8459 - sub24_out_categorical_accuracy: 0.8272 - sub4_out_categorical_accuracy: 0.7962 - val_loss: 1.3653 - val_conv6_cls_loss: 0.8447 - val_sub24_out_loss: 0.9115 - val_sub4_out_loss: 0.9753 - val_conv6_cls_categorical_accuracy: 0.7731 - val_sub24_out_categorical_accuracy: 0.7535 - val_sub4_out_categorical_accuracy: 0.7278\n",
            "Epoch 43/50\n",
            "217/218 [============================>.] - ETA: 3s - loss: 0.9242 - conv6_cls_loss: 0.5568 - sub24_out_loss: 0.6272 - sub4_out_loss: 0.7282 - conv6_cls_categorical_accuracy: 0.8476 - sub24_out_categorical_accuracy: 0.8292 - sub4_out_categorical_accuracy: 0.7982\n",
            "Epoch 00043: val_conv6_cls_categorical_accuracy did not improve from 0.77627\n",
            "218/218 [==============================] - 750s 3s/step - loss: 0.9241 - conv6_cls_loss: 0.5567 - sub24_out_loss: 0.6272 - sub4_out_loss: 0.7281 - conv6_cls_categorical_accuracy: 0.8477 - sub24_out_categorical_accuracy: 0.8292 - sub4_out_categorical_accuracy: 0.7982 - val_loss: 1.3642 - val_conv6_cls_loss: 0.8453 - val_sub24_out_loss: 0.9076 - val_sub4_out_loss: 0.9740 - val_conv6_cls_categorical_accuracy: 0.7679 - val_sub24_out_categorical_accuracy: 0.7493 - val_sub4_out_categorical_accuracy: 0.7241\n",
            "Epoch 44/50\n",
            "217/218 [============================>.] - ETA: 3s - loss: 0.9212 - conv6_cls_loss: 0.5548 - sub24_out_loss: 0.6252 - sub4_out_loss: 0.7268 - conv6_cls_categorical_accuracy: 0.8478 - sub24_out_categorical_accuracy: 0.8293 - sub4_out_categorical_accuracy: 0.7981\n",
            "Epoch 00044: val_conv6_cls_categorical_accuracy did not improve from 0.77627\n",
            "218/218 [==============================] - 750s 3s/step - loss: 0.9210 - conv6_cls_loss: 0.5547 - sub24_out_loss: 0.6251 - sub4_out_loss: 0.7267 - conv6_cls_categorical_accuracy: 0.8479 - sub24_out_categorical_accuracy: 0.8293 - sub4_out_categorical_accuracy: 0.7981 - val_loss: 1.3604 - val_conv6_cls_loss: 0.8409 - val_sub24_out_loss: 0.9071 - val_sub4_out_loss: 0.9790 - val_conv6_cls_categorical_accuracy: 0.7687 - val_sub24_out_categorical_accuracy: 0.7497 - val_sub4_out_categorical_accuracy: 0.7241\n",
            "Epoch 45/50\n",
            "217/218 [============================>.] - ETA: 3s - loss: 0.9051 - conv6_cls_loss: 0.5445 - sub24_out_loss: 0.6146 - sub4_out_loss: 0.7169 - conv6_cls_categorical_accuracy: 0.8506 - sub24_out_categorical_accuracy: 0.8323 - sub4_out_categorical_accuracy: 0.8010\n",
            "Epoch 00045: val_conv6_cls_categorical_accuracy did not improve from 0.77627\n",
            "218/218 [==============================] - 757s 3s/step - loss: 0.9049 - conv6_cls_loss: 0.5444 - sub24_out_loss: 0.6145 - sub4_out_loss: 0.7168 - conv6_cls_categorical_accuracy: 0.8506 - sub24_out_categorical_accuracy: 0.8323 - sub4_out_categorical_accuracy: 0.8010 - val_loss: 1.3759 - val_conv6_cls_loss: 0.8512 - val_sub24_out_loss: 0.9197 - val_sub4_out_loss: 0.9800 - val_conv6_cls_categorical_accuracy: 0.7736 - val_sub24_out_categorical_accuracy: 0.7539 - val_sub4_out_categorical_accuracy: 0.7293\n",
            "Epoch 46/50\n",
            "217/218 [============================>.] - ETA: 3s - loss: 0.9040 - conv6_cls_loss: 0.5430 - sub24_out_loss: 0.6152 - sub4_out_loss: 0.7186 - conv6_cls_categorical_accuracy: 0.8512 - sub24_out_categorical_accuracy: 0.8326 - sub4_out_categorical_accuracy: 0.8010\n",
            "Epoch 00046: val_conv6_cls_categorical_accuracy did not improve from 0.77627\n",
            "218/218 [==============================] - 760s 3s/step - loss: 0.9038 - conv6_cls_loss: 0.5428 - sub24_out_loss: 0.6151 - sub4_out_loss: 0.7185 - conv6_cls_categorical_accuracy: 0.8512 - sub24_out_categorical_accuracy: 0.8327 - sub4_out_categorical_accuracy: 0.8010 - val_loss: 1.3587 - val_conv6_cls_loss: 0.8439 - val_sub24_out_loss: 0.8965 - val_sub4_out_loss: 0.9768 - val_conv6_cls_categorical_accuracy: 0.7692 - val_sub24_out_categorical_accuracy: 0.7527 - val_sub4_out_categorical_accuracy: 0.7257\n",
            "Epoch 47/50\n",
            "217/218 [============================>.] - ETA: 3s - loss: 0.9053 - conv6_cls_loss: 0.5442 - sub24_out_loss: 0.6152 - sub4_out_loss: 0.7188 - conv6_cls_categorical_accuracy: 0.8512 - sub24_out_categorical_accuracy: 0.8327 - sub4_out_categorical_accuracy: 0.8009\n",
            "Epoch 00047: val_conv6_cls_categorical_accuracy did not improve from 0.77627\n",
            "218/218 [==============================] - 778s 4s/step - loss: 0.9051 - conv6_cls_loss: 0.5440 - sub24_out_loss: 0.6150 - sub4_out_loss: 0.7187 - conv6_cls_categorical_accuracy: 0.8512 - sub24_out_categorical_accuracy: 0.8327 - sub4_out_categorical_accuracy: 0.8010 - val_loss: 1.3735 - val_conv6_cls_loss: 0.8496 - val_sub24_out_loss: 0.9185 - val_sub4_out_loss: 0.9783 - val_conv6_cls_categorical_accuracy: 0.7711 - val_sub24_out_categorical_accuracy: 0.7515 - val_sub4_out_categorical_accuracy: 0.7283\n",
            "Epoch 48/50\n",
            "217/218 [============================>.] - ETA: 3s - loss: 0.8975 - conv6_cls_loss: 0.5386 - sub24_out_loss: 0.6114 - sub4_out_loss: 0.7148 - conv6_cls_categorical_accuracy: 0.8527 - sub24_out_categorical_accuracy: 0.8339 - sub4_out_categorical_accuracy: 0.8021\n",
            "Epoch 00048: val_conv6_cls_categorical_accuracy did not improve from 0.77627\n",
            "218/218 [==============================] - 777s 4s/step - loss: 0.8974 - conv6_cls_loss: 0.5385 - sub24_out_loss: 0.6113 - sub4_out_loss: 0.7148 - conv6_cls_categorical_accuracy: 0.8527 - sub24_out_categorical_accuracy: 0.8339 - sub4_out_categorical_accuracy: 0.8021 - val_loss: 1.3735 - val_conv6_cls_loss: 0.8524 - val_sub24_out_loss: 0.9130 - val_sub4_out_loss: 0.9746 - val_conv6_cls_categorical_accuracy: 0.7731 - val_sub24_out_categorical_accuracy: 0.7561 - val_sub4_out_categorical_accuracy: 0.7323\n",
            "Epoch 49/50\n",
            "217/218 [============================>.] - ETA: 3s - loss: 0.8910 - conv6_cls_loss: 0.5349 - sub24_out_loss: 0.6063 - sub4_out_loss: 0.7101 - conv6_cls_categorical_accuracy: 0.8535 - sub24_out_categorical_accuracy: 0.8352 - sub4_out_categorical_accuracy: 0.8034\n",
            "Epoch 00049: val_conv6_cls_categorical_accuracy improved from 0.77627 to 0.77754, saving model to weights/weights_ICNET.h5\n",
            "218/218 [==============================] - 784s 4s/step - loss: 0.8908 - conv6_cls_loss: 0.5348 - sub24_out_loss: 0.6062 - sub4_out_loss: 0.7099 - conv6_cls_categorical_accuracy: 0.8535 - sub24_out_categorical_accuracy: 0.8352 - sub4_out_categorical_accuracy: 0.8034 - val_loss: 1.3290 - val_conv6_cls_loss: 0.8228 - val_sub24_out_loss: 0.8832 - val_sub4_out_loss: 0.9557 - val_conv6_cls_categorical_accuracy: 0.7775 - val_sub24_out_categorical_accuracy: 0.7597 - val_sub4_out_categorical_accuracy: 0.7342\n",
            "Epoch 50/50\n",
            "217/218 [============================>.] - ETA: 3s - loss: 0.8774 - conv6_cls_loss: 0.5263 - sub24_out_loss: 0.5974 - sub4_out_loss: 0.7006 - conv6_cls_categorical_accuracy: 0.8563 - sub24_out_categorical_accuracy: 0.8380 - sub4_out_categorical_accuracy: 0.8063\n",
            "Epoch 00050: val_conv6_cls_categorical_accuracy did not improve from 0.77754\n",
            "218/218 [==============================] - 765s 4s/step - loss: 0.8773 - conv6_cls_loss: 0.5263 - sub24_out_loss: 0.5973 - sub4_out_loss: 0.7005 - conv6_cls_categorical_accuracy: 0.8563 - sub24_out_categorical_accuracy: 0.8380 - sub4_out_categorical_accuracy: 0.8063 - val_loss: 1.3310 - val_conv6_cls_loss: 0.8249 - val_sub24_out_loss: 0.8885 - val_sub4_out_loss: 0.9415 - val_conv6_cls_categorical_accuracy: 0.7762 - val_sub24_out_categorical_accuracy: 0.7572 - val_sub4_out_categorical_accuracy: 0.7356\n",
            "Training end\n"
          ],
          "name": "stdout"
        }
      ]
    },
    {
      "metadata": {
        "id": "txqBs5ju5RMZ",
        "colab_type": "code",
        "colab": {}
      },
      "cell_type": "code",
      "source": [
        "from google.colab import files\n",
        "\n",
        "files.download('weights/weights_ICNET.h5')"
      ],
      "execution_count": 0,
      "outputs": []
    },
    {
      "metadata": {
        "id": "pMB3V2IgO_sm",
        "colab_type": "code",
        "colab": {}
      },
      "cell_type": "code",
      "source": [
        "import glob\n",
        "\n",
        "file_names = glob.glob('history/*')\n",
        "\n",
        "for file_name in file_names:\n",
        "    files.download(file_name)"
      ],
      "execution_count": 0,
      "outputs": []
    }
  ]
}