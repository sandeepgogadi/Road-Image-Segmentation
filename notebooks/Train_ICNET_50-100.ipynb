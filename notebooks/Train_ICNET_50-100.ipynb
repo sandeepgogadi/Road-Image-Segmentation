{
  "nbformat": 4,
  "nbformat_minor": 0,
  "metadata": {
    "colab": {
      "name": "Road Image Segmentation TPU.ipynb",
      "version": "0.3.2",
      "provenance": [],
      "collapsed_sections": []
    },
    "kernelspec": {
      "name": "python3",
      "display_name": "Python 3"
    },
    "accelerator": "TPU"
  },
  "cells": [
    {
      "metadata": {
        "id": "h2e6nzBUTxTY",
        "colab_type": "code",
        "colab": {}
      },
      "cell_type": "code",
      "source": [
        "# !kill -9 -1"
      ],
      "execution_count": 0,
      "outputs": []
    },
    {
      "metadata": {
        "id": "MgFNI1PDUITT",
        "colab_type": "code",
        "colab": {
          "base_uri": "https://localhost:8080/",
          "height": 34
        },
        "outputId": "fdf9e117-3f59-41df-a47e-a6f1fd50b0d1"
      },
      "cell_type": "code",
      "source": [
        "ls"
      ],
      "execution_count": 2,
      "outputs": [
        {
          "output_type": "stream",
          "text": [
            "\u001b[0m\u001b[01;34msample_data\u001b[0m/\n"
          ],
          "name": "stdout"
        }
      ]
    },
    {
      "metadata": {
        "id": "1ROhMfiveeu5",
        "colab_type": "code",
        "colab": {
          "base_uri": "https://localhost:8080/",
          "height": 136
        },
        "outputId": "5accb9f4-9813-46c2-b691-27461c123d7b"
      },
      "cell_type": "code",
      "source": [
        "!git clone https://github.com/sandeepgogadi/Road-Image-Segmentation"
      ],
      "execution_count": 3,
      "outputs": [
        {
          "output_type": "stream",
          "text": [
            "Cloning into 'Road-Image-Segmentation'...\n",
            "remote: Enumerating objects: 230, done.\u001b[K\n",
            "remote: Counting objects: 100% (230/230), done.\u001b[K\n",
            "remote: Compressing objects: 100% (164/164), done.\u001b[K\n",
            "remote: Total 230 (delta 127), reused 166 (delta 63), pack-reused 0\u001b[K\n",
            "Receiving objects: 100% (230/230), 49.49 MiB | 29.90 MiB/s, done.\n",
            "Resolving deltas: 100% (127/127), done.\n"
          ],
          "name": "stdout"
        }
      ]
    },
    {
      "metadata": {
        "id": "-vu6NEhyejz0",
        "colab_type": "code",
        "colab": {
          "base_uri": "https://localhost:8080/",
          "height": 122
        },
        "outputId": "6ba20953-89ed-46dc-d5d4-f451cc2b343b"
      },
      "cell_type": "code",
      "source": [
        "from google.colab import drive\n",
        "drive.mount('/content/gdrive')"
      ],
      "execution_count": 4,
      "outputs": [
        {
          "output_type": "stream",
          "text": [
            "Go to this URL in a browser: https://accounts.google.com/o/oauth2/auth?client_id=947318989803-6bn6qk8qdgf4n4g3pfee6491hc0brc4i.apps.googleusercontent.com&redirect_uri=urn%3Aietf%3Awg%3Aoauth%3A2.0%3Aoob&scope=email%20https%3A%2F%2Fwww.googleapis.com%2Fauth%2Fdocs.test%20https%3A%2F%2Fwww.googleapis.com%2Fauth%2Fdrive%20https%3A%2F%2Fwww.googleapis.com%2Fauth%2Fdrive.photos.readonly%20https%3A%2F%2Fwww.googleapis.com%2Fauth%2Fpeopleapi.readonly&response_type=code\n",
            "\n",
            "Enter your authorization code:\n",
            "··········\n",
            "Mounted at /content/gdrive\n"
          ],
          "name": "stdout"
        }
      ]
    },
    {
      "metadata": {
        "id": "6-ZGTgnbemZD",
        "colab_type": "code",
        "colab": {
          "base_uri": "https://localhost:8080/",
          "height": 34
        },
        "outputId": "241dfbed-6629-4e47-9d4b-7bd38fb0dd85"
      },
      "cell_type": "code",
      "source": [
        "ls"
      ],
      "execution_count": 5,
      "outputs": [
        {
          "output_type": "stream",
          "text": [
            "\u001b[0m\u001b[01;34mgdrive\u001b[0m/  \u001b[01;34mRoad-Image-Segmentation\u001b[0m/  \u001b[01;34msample_data\u001b[0m/\n"
          ],
          "name": "stdout"
        }
      ]
    },
    {
      "metadata": {
        "id": "56pAdXX6eug3",
        "colab_type": "code",
        "colab": {
          "base_uri": "https://localhost:8080/",
          "height": 34
        },
        "outputId": "ce891b82-7dba-4d70-9166-31d02f9ff409"
      },
      "cell_type": "code",
      "source": [
        "cd Road-Image-Segmentation/"
      ],
      "execution_count": 6,
      "outputs": [
        {
          "output_type": "stream",
          "text": [
            "/content/Road-Image-Segmentation\n"
          ],
          "name": "stdout"
        }
      ]
    },
    {
      "metadata": {
        "id": "YCVQCwIiev1A",
        "colab_type": "code",
        "colab": {
          "base_uri": "https://localhost:8080/",
          "height": 85
        },
        "outputId": "ed4a2a1d-d4b1-428a-d0bf-b8dc5955a662"
      },
      "cell_type": "code",
      "source": [
        "ls"
      ],
      "execution_count": 7,
      "outputs": [
        {
          "output_type": "stream",
          "text": [
            "callbacks.py             data_generator.py  \u001b[0m\u001b[01;34mmodels\u001b[0m/        push.sh    train.py\n",
            "cityscapes_label.py      \u001b[01;34mhistory\u001b[0m/           \u001b[01;34mnotebooks\u001b[0m/     README.md  utils.py\n",
            "class_weights_640_320.p  history.py         \u001b[01;34moutputs\u001b[0m/       test.jpg   \u001b[01;34mweights\u001b[0m/\n",
            "\u001b[01;32mconfig.json\u001b[0m*             label.py           Predict.ipynb  test.py\n"
          ],
          "name": "stdout"
        }
      ]
    },
    {
      "metadata": {
        "id": "bLJg_oKzewNe",
        "colab_type": "code",
        "colab": {}
      },
      "cell_type": "code",
      "source": [
        "!cp /content/gdrive/My\\ Drive/seg/data.zip ."
      ],
      "execution_count": 0,
      "outputs": []
    },
    {
      "metadata": {
        "id": "b0KwWbvEexf1",
        "colab_type": "code",
        "colab": {}
      },
      "cell_type": "code",
      "source": [
        "!unzip -q data.zip"
      ],
      "execution_count": 0,
      "outputs": []
    },
    {
      "metadata": {
        "id": "8e9afeCDtja1",
        "colab_type": "code",
        "colab": {
          "base_uri": "https://localhost:8080/",
          "height": 34
        },
        "outputId": "4dc0f847-f20b-43e0-e0a0-c46ff866d0d0"
      },
      "cell_type": "code",
      "source": [
        "import tensorflow as tf\n",
        "print(tf.__version__)"
      ],
      "execution_count": 10,
      "outputs": [
        {
          "output_type": "stream",
          "text": [
            "1.12.0-rc2\n"
          ],
          "name": "stdout"
        }
      ]
    },
    {
      "metadata": {
        "id": "m9qD6GPUe0l-",
        "colab_type": "code",
        "colab": {
          "base_uri": "https://localhost:8080/",
          "height": 34
        },
        "outputId": "f2fb8de5-6d51-4bfa-bdbb-2059ba8e6b3f"
      },
      "cell_type": "code",
      "source": [
        "!git pull"
      ],
      "execution_count": 11,
      "outputs": [
        {
          "output_type": "stream",
          "text": [
            "Already up to date.\n"
          ],
          "name": "stdout"
        }
      ]
    },
    {
      "metadata": {
        "id": "vS9s6I-Ve0Me",
        "colab_type": "code",
        "colab": {
          "base_uri": "https://localhost:8080/",
          "height": 102
        },
        "outputId": "e0ceb55e-7aac-45e5-e313-d191a84d56f0"
      },
      "cell_type": "code",
      "source": [
        "ls"
      ],
      "execution_count": 12,
      "outputs": [
        {
          "output_type": "stream",
          "text": [
            "callbacks.py             data_generator.py  \u001b[0m\u001b[01;34mmodels\u001b[0m/        README.md  \u001b[01;34mweights\u001b[0m/\n",
            "cityscapes_label.py      data.zip           \u001b[01;34mnotebooks\u001b[0m/     test.jpg\n",
            "class_weights_640_320.p  \u001b[01;34mhistory\u001b[0m/           \u001b[01;34moutputs\u001b[0m/       test.py\n",
            "\u001b[01;32mconfig.json\u001b[0m*             history.py         Predict.ipynb  train.py\n",
            "\u001b[01;34mdata\u001b[0m/                    label.py           push.sh        utils.py\n"
          ],
          "name": "stdout"
        }
      ]
    },
    {
      "metadata": {
        "id": "ozt7SOxcdvdY",
        "colab_type": "code",
        "colab": {
          "base_uri": "https://localhost:8080/",
          "height": 4287
        },
        "outputId": "e1341c27-ff02-4c14-8a55-be8714dcdccf"
      },
      "cell_type": "code",
      "source": [
        "!python train.py --batch_size 128 --net ICNET --epochs 50 --width 640 --height 320 --use_tpu True --weights_path weights/weights_ICNET.h5"
      ],
      "execution_count": 13,
      "outputs": [
        {
          "output_type": "stream",
          "text": [
            "Namespace(batch_size=128, custom_data=False, epochs=50, height=320, lr=0.01, net='ICNET', num_classes=20, train=True, use_tpu=True, weights_path='weights/weights_ICNET.h5', width=640)\n",
            "Downloading file weights/vgg16.h5\n",
            "57510KB [00:02, 21517.25KB/s]                       \n",
            "Check the file!\n",
            "Assigned callbacks!\n",
            "Alloted generators\n",
            "Getting class weights\n",
            "Loaded class weights!\n",
            "loaded loss weights\n",
            "ICNET\n",
            "loaded model\n",
            "2018-11-01 20:24:13.450495: W tensorflow/core/distributed_runtime/rpc/grpc_session.cc:349] GrpcSession::ListDevices will initialize the session with an empty graph and other defaults because the session has not yet been created.\n",
            "WARNING:tensorflow:tpu_model (from tensorflow.contrib.tpu.python.tpu.keras_support) is experimental and may change or be removed at any time, and without warning.\n",
            "TPU setup completed\n",
            "Optimizer selected\n",
            "Model compiled\n",
            "Training begin\n",
            "Epoch 1/50\n",
            "WARNING:tensorflow:Cannot update non-variable config: epsilon\n",
            "WARNING:tensorflow:Cannot update non-variable config: amsgrad\n",
            "217/218 [============================>.] - ETA: 4s - loss: 1.9127 - conv6_cls_loss: 1.1867 - sub24_out_loss: 1.2372 - sub4_out_loss: 1.4445 - conv6_cls_categorical_accuracy: 0.6526 - sub24_out_categorical_accuracy: 0.6320 - sub4_out_categorical_accuracy: 0.5490\n",
            "Epoch 00001: val_conv6_cls_categorical_accuracy improved from -inf to 0.57781, saving model to weights/weights_ICNET.h5\n",
            "WARNING:tensorflow:Cannot update non-variable config: epsilon\n",
            "WARNING:tensorflow:Cannot update non-variable config: amsgrad\n",
            "218/218 [==============================] - 1380s 6s/step - loss: 1.9109 - conv6_cls_loss: 1.1856 - sub24_out_loss: 1.2361 - sub4_out_loss: 1.4430 - conv6_cls_categorical_accuracy: 0.6529 - sub24_out_categorical_accuracy: 0.6323 - sub4_out_categorical_accuracy: 0.5496 - val_loss: 2.5007 - val_conv6_cls_loss: 1.5536 - val_sub24_out_loss: 1.5944 - val_sub4_out_loss: 1.9339 - val_conv6_cls_categorical_accuracy: 0.5778 - val_sub24_out_categorical_accuracy: 0.5745 - val_sub4_out_categorical_accuracy: 0.5120\n",
            "Epoch 2/50\n",
            "217/218 [============================>.] - ETA: 3s - loss: 1.4785 - conv6_cls_loss: 0.9226 - sub24_out_loss: 0.9602 - sub4_out_loss: 1.0736 - conv6_cls_categorical_accuracy: 0.7327 - sub24_out_categorical_accuracy: 0.7225 - sub4_out_categorical_accuracy: 0.6878\n",
            "Epoch 00002: val_conv6_cls_categorical_accuracy improved from 0.57781 to 0.69854, saving model to weights/weights_ICNET.h5\n",
            "WARNING:tensorflow:Cannot update non-variable config: epsilon\n",
            "WARNING:tensorflow:Cannot update non-variable config: amsgrad\n",
            "218/218 [==============================] - 874s 4s/step - loss: 1.4780 - conv6_cls_loss: 0.9223 - sub24_out_loss: 0.9599 - sub4_out_loss: 1.0732 - conv6_cls_categorical_accuracy: 0.7328 - sub24_out_categorical_accuracy: 0.7226 - sub4_out_categorical_accuracy: 0.6879 - val_loss: 1.6367 - val_conv6_cls_loss: 1.0140 - val_sub24_out_loss: 1.0862 - val_sub4_out_loss: 1.1764 - val_conv6_cls_categorical_accuracy: 0.6985 - val_sub24_out_categorical_accuracy: 0.6842 - val_sub4_out_categorical_accuracy: 0.6655\n",
            "Epoch 3/50\n",
            "217/218 [============================>.] - ETA: 3s - loss: 1.3699 - conv6_cls_loss: 0.8536 - sub24_out_loss: 0.8939 - sub4_out_loss: 0.9925 - conv6_cls_categorical_accuracy: 0.7545 - sub24_out_categorical_accuracy: 0.7441 - sub4_out_categorical_accuracy: 0.7150\n",
            "Epoch 00003: val_conv6_cls_categorical_accuracy improved from 0.69854 to 0.73102, saving model to weights/weights_ICNET.h5\n",
            "WARNING:tensorflow:Cannot update non-variable config: epsilon\n",
            "WARNING:tensorflow:Cannot update non-variable config: amsgrad\n",
            "218/218 [==============================] - 889s 4s/step - loss: 1.3694 - conv6_cls_loss: 0.8533 - sub24_out_loss: 0.8935 - sub4_out_loss: 0.9922 - conv6_cls_categorical_accuracy: 0.7546 - sub24_out_categorical_accuracy: 0.7442 - sub4_out_categorical_accuracy: 0.7151 - val_loss: 1.5130 - val_conv6_cls_loss: 0.9297 - val_sub24_out_loss: 1.0002 - val_sub4_out_loss: 1.1457 - val_conv6_cls_categorical_accuracy: 0.7310 - val_sub24_out_categorical_accuracy: 0.7146 - val_sub4_out_categorical_accuracy: 0.6741\n",
            "Epoch 4/50\n",
            "217/218 [============================>.] - ETA: 3s - loss: 1.3034 - conv6_cls_loss: 0.8109 - sub24_out_loss: 0.8530 - sub4_out_loss: 0.9456 - conv6_cls_categorical_accuracy: 0.7669 - sub24_out_categorical_accuracy: 0.7566 - sub4_out_categorical_accuracy: 0.7292\n",
            "Epoch 00004: val_conv6_cls_categorical_accuracy did not improve from 0.73102\n",
            "218/218 [==============================] - 791s 4s/step - loss: 1.3032 - conv6_cls_loss: 0.8108 - sub24_out_loss: 0.8529 - sub4_out_loss: 0.9455 - conv6_cls_categorical_accuracy: 0.7669 - sub24_out_categorical_accuracy: 0.7566 - sub4_out_categorical_accuracy: 0.7293 - val_loss: 1.5541 - val_conv6_cls_loss: 0.9862 - val_sub24_out_loss: 0.9815 - val_sub4_out_loss: 1.0953 - val_conv6_cls_categorical_accuracy: 0.7158 - val_sub24_out_categorical_accuracy: 0.7196 - val_sub4_out_categorical_accuracy: 0.6836\n",
            "Epoch 5/50\n",
            "217/218 [============================>.] - ETA: 3s - loss: 1.2603 - conv6_cls_loss: 0.7831 - sub24_out_loss: 0.8260 - sub4_out_loss: 0.9175 - conv6_cls_categorical_accuracy: 0.7744 - sub24_out_categorical_accuracy: 0.7641 - sub4_out_categorical_accuracy: 0.7372\n",
            "Epoch 00005: val_conv6_cls_categorical_accuracy improved from 0.73102 to 0.76039, saving model to weights/weights_ICNET.h5\n",
            "WARNING:tensorflow:Cannot update non-variable config: epsilon\n",
            "WARNING:tensorflow:Cannot update non-variable config: amsgrad\n",
            "218/218 [==============================] - 908s 4s/step - loss: 1.2606 - conv6_cls_loss: 0.7833 - sub24_out_loss: 0.8263 - sub4_out_loss: 0.9178 - conv6_cls_categorical_accuracy: 0.7744 - sub24_out_categorical_accuracy: 0.7640 - sub4_out_categorical_accuracy: 0.7372 - val_loss: 1.3211 - val_conv6_cls_loss: 0.8177 - val_sub24_out_loss: 0.8692 - val_sub4_out_loss: 0.9731 - val_conv6_cls_categorical_accuracy: 0.7604 - val_sub24_out_categorical_accuracy: 0.7462 - val_sub4_out_categorical_accuracy: 0.7179\n",
            "Epoch 6/50\n",
            "217/218 [============================>.] - ETA: 3s - loss: 1.2271 - conv6_cls_loss: 0.7613 - sub24_out_loss: 0.8061 - sub4_out_loss: 0.8960 - conv6_cls_categorical_accuracy: 0.7822 - sub24_out_categorical_accuracy: 0.7711 - sub4_out_categorical_accuracy: 0.7446\n",
            "Epoch 00006: val_conv6_cls_categorical_accuracy did not improve from 0.76039\n",
            "218/218 [==============================] - 805s 4s/step - loss: 1.2267 - conv6_cls_loss: 0.7610 - sub24_out_loss: 0.8058 - sub4_out_loss: 0.8957 - conv6_cls_categorical_accuracy: 0.7823 - sub24_out_categorical_accuracy: 0.7712 - sub4_out_categorical_accuracy: 0.7447 - val_loss: 1.6558 - val_conv6_cls_loss: 1.0123 - val_sub24_out_loss: 1.1134 - val_sub4_out_loss: 1.2381 - val_conv6_cls_categorical_accuracy: 0.6985 - val_sub24_out_categorical_accuracy: 0.6762 - val_sub4_out_categorical_accuracy: 0.6403\n",
            "Epoch 7/50\n",
            "217/218 [============================>.] - ETA: 3s - loss: 1.1846 - conv6_cls_loss: 0.7340 - sub24_out_loss: 0.7801 - sub4_out_loss: 0.8659 - conv6_cls_categorical_accuracy: 0.7899 - sub24_out_categorical_accuracy: 0.7787 - sub4_out_categorical_accuracy: 0.7532\n",
            "Epoch 00007: val_conv6_cls_categorical_accuracy improved from 0.76039 to 0.77694, saving model to weights/weights_ICNET.h5\n",
            "WARNING:tensorflow:Cannot update non-variable config: epsilon\n",
            "WARNING:tensorflow:Cannot update non-variable config: amsgrad\n",
            "218/218 [==============================] - 921s 4s/step - loss: 1.1845 - conv6_cls_loss: 0.7340 - sub24_out_loss: 0.7800 - sub4_out_loss: 0.8659 - conv6_cls_categorical_accuracy: 0.7898 - sub24_out_categorical_accuracy: 0.7787 - sub4_out_categorical_accuracy: 0.7532 - val_loss: 1.2547 - val_conv6_cls_loss: 0.7746 - val_sub24_out_loss: 0.8263 - val_sub4_out_loss: 0.9349 - val_conv6_cls_categorical_accuracy: 0.7769 - val_sub24_out_categorical_accuracy: 0.7653 - val_sub4_out_categorical_accuracy: 0.7343\n",
            "Epoch 8/50\n",
            "217/218 [============================>.] - ETA: 3s - loss: 1.1573 - conv6_cls_loss: 0.7161 - sub24_out_loss: 0.7632 - sub4_out_loss: 0.8491 - conv6_cls_categorical_accuracy: 0.7950 - sub24_out_categorical_accuracy: 0.7835 - sub4_out_categorical_accuracy: 0.7583\n",
            "Epoch 00008: val_conv6_cls_categorical_accuracy did not improve from 0.77694\n",
            "218/218 [==============================] - 807s 4s/step - loss: 1.1572 - conv6_cls_loss: 0.7161 - sub24_out_loss: 0.7632 - sub4_out_loss: 0.8491 - conv6_cls_categorical_accuracy: 0.7950 - sub24_out_categorical_accuracy: 0.7834 - sub4_out_categorical_accuracy: 0.7583 - val_loss: 1.3483 - val_conv6_cls_loss: 0.8432 - val_sub24_out_loss: 0.8753 - val_sub4_out_loss: 0.9686 - val_conv6_cls_categorical_accuracy: 0.7473 - val_sub24_out_categorical_accuracy: 0.7408 - val_sub4_out_categorical_accuracy: 0.7106\n",
            "Epoch 9/50\n",
            "217/218 [============================>.] - ETA: 3s - loss: 1.1412 - conv6_cls_loss: 0.7055 - sub24_out_loss: 0.7538 - sub4_out_loss: 0.8388 - conv6_cls_categorical_accuracy: 0.7986 - sub24_out_categorical_accuracy: 0.7870 - sub4_out_categorical_accuracy: 0.7619\n",
            "Epoch 00009: val_conv6_cls_categorical_accuracy did not improve from 0.77694\n",
            "218/218 [==============================] - 807s 4s/step - loss: 1.1411 - conv6_cls_loss: 0.7054 - sub24_out_loss: 0.7537 - sub4_out_loss: 0.8388 - conv6_cls_categorical_accuracy: 0.7986 - sub24_out_categorical_accuracy: 0.7870 - sub4_out_categorical_accuracy: 0.7620 - val_loss: 1.2692 - val_conv6_cls_loss: 0.7837 - val_sub24_out_loss: 0.8388 - val_sub4_out_loss: 0.9378 - val_conv6_cls_categorical_accuracy: 0.7714 - val_sub24_out_categorical_accuracy: 0.7569 - val_sub4_out_categorical_accuracy: 0.7286\n",
            "Epoch 10/50\n",
            "217/218 [============================>.] - ETA: 3s - loss: 1.1250 - conv6_cls_loss: 0.6949 - sub24_out_loss: 0.7442 - sub4_out_loss: 0.8275 - conv6_cls_categorical_accuracy: 0.8022 - sub24_out_categorical_accuracy: 0.7903 - sub4_out_categorical_accuracy: 0.7658\n",
            "Epoch 00010: val_conv6_cls_categorical_accuracy improved from 0.77694 to 0.78645, saving model to weights/weights_ICNET.h5\n",
            "WARNING:tensorflow:Cannot update non-variable config: epsilon\n",
            "WARNING:tensorflow:Cannot update non-variable config: amsgrad\n",
            "218/218 [==============================] - 911s 4s/step - loss: 1.1246 - conv6_cls_loss: 0.6947 - sub24_out_loss: 0.7439 - sub4_out_loss: 0.8273 - conv6_cls_categorical_accuracy: 0.8023 - sub24_out_categorical_accuracy: 0.7903 - sub4_out_categorical_accuracy: 0.7658 - val_loss: 1.2188 - val_conv6_cls_loss: 0.7497 - val_sub24_out_loss: 0.8100 - val_sub4_out_loss: 0.9064 - val_conv6_cls_categorical_accuracy: 0.7864 - val_sub24_out_categorical_accuracy: 0.7732 - val_sub4_out_categorical_accuracy: 0.7436\n",
            "Epoch 11/50\n",
            "217/218 [============================>.] - ETA: 3s - loss: 1.0994 - conv6_cls_loss: 0.6781 - sub24_out_loss: 0.7285 - sub4_out_loss: 0.8116 - conv6_cls_categorical_accuracy: 0.8070 - sub24_out_categorical_accuracy: 0.7949 - sub4_out_categorical_accuracy: 0.7703\n",
            "Epoch 00011: val_conv6_cls_categorical_accuracy did not improve from 0.78645\n",
            "218/218 [==============================] - 804s 4s/step - loss: 1.0995 - conv6_cls_loss: 0.6782 - sub24_out_loss: 0.7285 - sub4_out_loss: 0.8117 - conv6_cls_categorical_accuracy: 0.8070 - sub24_out_categorical_accuracy: 0.7949 - sub4_out_categorical_accuracy: 0.7703 - val_loss: 1.3251 - val_conv6_cls_loss: 0.8229 - val_sub24_out_loss: 0.8706 - val_sub4_out_loss: 0.9626 - val_conv6_cls_categorical_accuracy: 0.7638 - val_sub24_out_categorical_accuracy: 0.7524 - val_sub4_out_categorical_accuracy: 0.7237\n",
            "Epoch 12/50\n",
            "217/218 [============================>.] - ETA: 3s - loss: 1.0905 - conv6_cls_loss: 0.6724 - sub24_out_loss: 0.7222 - sub4_out_loss: 0.8077 - conv6_cls_categorical_accuracy: 0.8091 - sub24_out_categorical_accuracy: 0.7969 - sub4_out_categorical_accuracy: 0.7717\n",
            "Epoch 00012: val_conv6_cls_categorical_accuracy did not improve from 0.78645\n",
            "218/218 [==============================] - 808s 4s/step - loss: 1.0905 - conv6_cls_loss: 0.6724 - sub24_out_loss: 0.7223 - sub4_out_loss: 0.8077 - conv6_cls_categorical_accuracy: 0.8090 - sub24_out_categorical_accuracy: 0.7969 - sub4_out_categorical_accuracy: 0.7717 - val_loss: 1.2751 - val_conv6_cls_loss: 0.7956 - val_sub24_out_loss: 0.8243 - val_sub4_out_loss: 0.9359 - val_conv6_cls_categorical_accuracy: 0.7721 - val_sub24_out_categorical_accuracy: 0.7670 - val_sub4_out_categorical_accuracy: 0.7338\n",
            "Epoch 13/50\n",
            "217/218 [============================>.] - ETA: 3s - loss: 1.0774 - conv6_cls_loss: 0.6639 - sub24_out_loss: 0.7142 - sub4_out_loss: 0.7989 - conv6_cls_categorical_accuracy: 0.8118 - sub24_out_categorical_accuracy: 0.7995 - sub4_out_categorical_accuracy: 0.7744\n",
            "Epoch 00013: val_conv6_cls_categorical_accuracy improved from 0.78645 to 0.79942, saving model to weights/weights_ICNET.h5\n",
            "WARNING:tensorflow:Cannot update non-variable config: epsilon\n",
            "WARNING:tensorflow:Cannot update non-variable config: amsgrad\n",
            "218/218 [==============================] - 933s 4s/step - loss: 1.0771 - conv6_cls_loss: 0.6637 - sub24_out_loss: 0.7140 - sub4_out_loss: 0.7986 - conv6_cls_categorical_accuracy: 0.8119 - sub24_out_categorical_accuracy: 0.7996 - sub4_out_categorical_accuracy: 0.7745 - val_loss: 1.1428 - val_conv6_cls_loss: 0.7025 - val_sub24_out_loss: 0.7651 - val_sub4_out_loss: 0.8391 - val_conv6_cls_categorical_accuracy: 0.7994 - val_sub24_out_categorical_accuracy: 0.7836 - val_sub4_out_categorical_accuracy: 0.7596\n",
            "Epoch 14/50\n",
            "217/218 [============================>.] - ETA: 3s - loss: 1.0565 - conv6_cls_loss: 0.6501 - sub24_out_loss: 0.7019 - sub4_out_loss: 0.7849 - conv6_cls_categorical_accuracy: 0.8163 - sub24_out_categorical_accuracy: 0.8037 - sub4_out_categorical_accuracy: 0.7792\n",
            "Epoch 00014: val_conv6_cls_categorical_accuracy did not improve from 0.79942\n",
            "218/218 [==============================] - 813s 4s/step - loss: 1.0564 - conv6_cls_loss: 0.6501 - sub24_out_loss: 0.7018 - sub4_out_loss: 0.7848 - conv6_cls_categorical_accuracy: 0.8163 - sub24_out_categorical_accuracy: 0.8037 - sub4_out_categorical_accuracy: 0.7792 - val_loss: 1.1936 - val_conv6_cls_loss: 0.7457 - val_sub24_out_loss: 0.7766 - val_sub4_out_loss: 0.8578 - val_conv6_cls_categorical_accuracy: 0.7860 - val_sub24_out_categorical_accuracy: 0.7799 - val_sub4_out_categorical_accuracy: 0.7567\n",
            "Epoch 15/50\n",
            "217/218 [============================>.] - ETA: 3s - loss: 1.0519 - conv6_cls_loss: 0.6469 - sub24_out_loss: 0.6995 - sub4_out_loss: 0.7825 - conv6_cls_categorical_accuracy: 0.8172 - sub24_out_categorical_accuracy: 0.8045 - sub4_out_categorical_accuracy: 0.7799\n",
            "Epoch 00015: val_conv6_cls_categorical_accuracy did not improve from 0.79942\n",
            "218/218 [==============================] - 810s 4s/step - loss: 1.0519 - conv6_cls_loss: 0.6469 - sub24_out_loss: 0.6995 - sub4_out_loss: 0.7824 - conv6_cls_categorical_accuracy: 0.8172 - sub24_out_categorical_accuracy: 0.8045 - sub4_out_categorical_accuracy: 0.7799 - val_loss: 1.1670 - val_conv6_cls_loss: 0.7235 - val_sub24_out_loss: 0.7685 - val_sub4_out_loss: 0.8503 - val_conv6_cls_categorical_accuracy: 0.7928 - val_sub24_out_categorical_accuracy: 0.7822 - val_sub4_out_categorical_accuracy: 0.7573\n",
            "Epoch 16/50\n",
            "217/218 [============================>.] - ETA: 3s - loss: 1.0461 - conv6_cls_loss: 0.6422 - sub24_out_loss: 0.6972 - sub4_out_loss: 0.7812 - conv6_cls_categorical_accuracy: 0.8188 - sub24_out_categorical_accuracy: 0.8059 - sub4_out_categorical_accuracy: 0.7809\n",
            "Epoch 00016: val_conv6_cls_categorical_accuracy did not improve from 0.79942\n",
            "218/218 [==============================] - 785s 4s/step - loss: 1.0458 - conv6_cls_loss: 0.6420 - sub24_out_loss: 0.6970 - sub4_out_loss: 0.7810 - conv6_cls_categorical_accuracy: 0.8189 - sub24_out_categorical_accuracy: 0.8060 - sub4_out_categorical_accuracy: 0.7810 - val_loss: 1.1518 - val_conv6_cls_loss: 0.7094 - val_sub24_out_loss: 0.7637 - val_sub4_out_loss: 0.8559 - val_conv6_cls_categorical_accuracy: 0.7987 - val_sub24_out_categorical_accuracy: 0.7878 - val_sub4_out_categorical_accuracy: 0.7597\n",
            "Epoch 17/50\n",
            "217/218 [============================>.] - ETA: 3s - loss: 1.0180 - conv6_cls_loss: 0.6242 - sub24_out_loss: 0.6792 - sub4_out_loss: 0.7626 - conv6_cls_categorical_accuracy: 0.8240 - sub24_out_categorical_accuracy: 0.8110 - sub4_out_categorical_accuracy: 0.7865\n",
            "Epoch 00017: val_conv6_cls_categorical_accuracy improved from 0.79942 to 0.81305, saving model to weights/weights_ICNET.h5\n",
            "WARNING:tensorflow:Cannot update non-variable config: epsilon\n",
            "WARNING:tensorflow:Cannot update non-variable config: amsgrad\n",
            "218/218 [==============================] - 853s 4s/step - loss: 1.0180 - conv6_cls_loss: 0.6243 - sub24_out_loss: 0.6792 - sub4_out_loss: 0.7626 - conv6_cls_categorical_accuracy: 0.8240 - sub24_out_categorical_accuracy: 0.8110 - sub4_out_categorical_accuracy: 0.7865 - val_loss: 1.0860 - val_conv6_cls_loss: 0.6639 - val_sub24_out_loss: 0.7298 - val_sub4_out_loss: 0.8137 - val_conv6_cls_categorical_accuracy: 0.8131 - val_sub24_out_categorical_accuracy: 0.7988 - val_sub4_out_categorical_accuracy: 0.7733\n",
            "Epoch 18/50\n",
            "217/218 [============================>.] - ETA: 3s - loss: 1.0128 - conv6_cls_loss: 0.6214 - sub24_out_loss: 0.6744 - sub4_out_loss: 0.7601 - conv6_cls_categorical_accuracy: 0.8259 - sub24_out_categorical_accuracy: 0.8131 - sub4_out_categorical_accuracy: 0.7879\n",
            "Epoch 00018: val_conv6_cls_categorical_accuracy did not improve from 0.81305\n",
            "218/218 [==============================] - 736s 3s/step - loss: 1.0126 - conv6_cls_loss: 0.6213 - sub24_out_loss: 0.6742 - sub4_out_loss: 0.7600 - conv6_cls_categorical_accuracy: 0.8260 - sub24_out_categorical_accuracy: 0.8131 - sub4_out_categorical_accuracy: 0.7879 - val_loss: 1.1901 - val_conv6_cls_loss: 0.7322 - val_sub24_out_loss: 0.7898 - val_sub4_out_loss: 0.8873 - val_conv6_cls_categorical_accuracy: 0.7966 - val_sub24_out_categorical_accuracy: 0.7813 - val_sub4_out_categorical_accuracy: 0.7550\n",
            "Epoch 19/50\n",
            "217/218 [============================>.] - ETA: 3s - loss: 0.9968 - conv6_cls_loss: 0.6106 - sub24_out_loss: 0.6654 - sub4_out_loss: 0.7508 - conv6_cls_categorical_accuracy: 0.8285 - sub24_out_categorical_accuracy: 0.8154 - sub4_out_categorical_accuracy: 0.7904\n",
            "Epoch 00019: val_conv6_cls_categorical_accuracy did not improve from 0.81305\n",
            "218/218 [==============================] - 726s 3s/step - loss: 0.9966 - conv6_cls_loss: 0.6104 - sub24_out_loss: 0.6652 - sub4_out_loss: 0.7506 - conv6_cls_categorical_accuracy: 0.8285 - sub24_out_categorical_accuracy: 0.8154 - sub4_out_categorical_accuracy: 0.7904 - val_loss: 1.1630 - val_conv6_cls_loss: 0.7100 - val_sub24_out_loss: 0.7879 - val_sub4_out_loss: 0.8619 - val_conv6_cls_categorical_accuracy: 0.7991 - val_sub24_out_categorical_accuracy: 0.7816 - val_sub4_out_categorical_accuracy: 0.7583\n",
            "Epoch 20/50\n",
            "217/218 [============================>.] - ETA: 3s - loss: 0.9846 - conv6_cls_loss: 0.6024 - sub24_out_loss: 0.6579 - sub4_out_loss: 0.7439 - conv6_cls_categorical_accuracy: 0.8316 - sub24_out_categorical_accuracy: 0.8185 - sub4_out_categorical_accuracy: 0.7931\n",
            "Epoch 00020: val_conv6_cls_categorical_accuracy did not improve from 0.81305\n",
            "218/218 [==============================] - 733s 3s/step - loss: 0.9845 - conv6_cls_loss: 0.6024 - sub24_out_loss: 0.6578 - sub4_out_loss: 0.7438 - conv6_cls_categorical_accuracy: 0.8316 - sub24_out_categorical_accuracy: 0.8185 - sub4_out_categorical_accuracy: 0.7931 - val_loss: 1.1368 - val_conv6_cls_loss: 0.7020 - val_sub24_out_loss: 0.7507 - val_sub4_out_loss: 0.8410 - val_conv6_cls_categorical_accuracy: 0.8073 - val_sub24_out_categorical_accuracy: 0.7939 - val_sub4_out_categorical_accuracy: 0.7665\n",
            "Epoch 21/50\n",
            "217/218 [============================>.] - ETA: 3s - loss: 0.9776 - conv6_cls_loss: 0.5976 - sub24_out_loss: 0.6536 - sub4_out_loss: 0.7409 - conv6_cls_categorical_accuracy: 0.8326 - sub24_out_categorical_accuracy: 0.8195 - sub4_out_categorical_accuracy: 0.7938\n",
            "Epoch 00021: val_conv6_cls_categorical_accuracy did not improve from 0.81305\n",
            "218/218 [==============================] - 738s 3s/step - loss: 0.9775 - conv6_cls_loss: 0.5976 - sub24_out_loss: 0.6536 - sub4_out_loss: 0.7409 - conv6_cls_categorical_accuracy: 0.8327 - sub24_out_categorical_accuracy: 0.8195 - sub4_out_categorical_accuracy: 0.7938 - val_loss: 1.1795 - val_conv6_cls_loss: 0.7230 - val_sub24_out_loss: 0.7872 - val_sub4_out_loss: 0.8849 - val_conv6_cls_categorical_accuracy: 0.7953 - val_sub24_out_categorical_accuracy: 0.7798 - val_sub4_out_categorical_accuracy: 0.7523\n",
            "Epoch 22/50\n",
            "217/218 [============================>.] - ETA: 3s - loss: 0.9590 - conv6_cls_loss: 0.5856 - sub24_out_loss: 0.6420 - sub4_out_loss: 0.7290 - conv6_cls_categorical_accuracy: 0.8359 - sub24_out_categorical_accuracy: 0.8226 - sub4_out_categorical_accuracy: 0.7970\n",
            "Epoch 00022: val_conv6_cls_categorical_accuracy did not improve from 0.81305\n",
            "218/218 [==============================] - 738s 3s/step - loss: 0.9590 - conv6_cls_loss: 0.5856 - sub24_out_loss: 0.6420 - sub4_out_loss: 0.7289 - conv6_cls_categorical_accuracy: 0.8359 - sub24_out_categorical_accuracy: 0.8226 - sub4_out_categorical_accuracy: 0.7970 - val_loss: 1.1129 - val_conv6_cls_loss: 0.6800 - val_sub24_out_loss: 0.7458 - val_sub4_out_loss: 0.8409 - val_conv6_cls_categorical_accuracy: 0.8046 - val_sub24_out_categorical_accuracy: 0.7901 - val_sub4_out_categorical_accuracy: 0.7614\n",
            "Epoch 23/50\n",
            "217/218 [============================>.] - ETA: 3s - loss: 0.9504 - conv6_cls_loss: 0.5801 - sub24_out_loss: 0.6363 - sub4_out_loss: 0.7241 - conv6_cls_categorical_accuracy: 0.8383 - sub24_out_categorical_accuracy: 0.8251 - sub4_out_categorical_accuracy: 0.7993\n",
            "Epoch 00023: val_conv6_cls_categorical_accuracy did not improve from 0.81305\n",
            "218/218 [==============================] - 740s 3s/step - loss: 0.9502 - conv6_cls_loss: 0.5799 - sub24_out_loss: 0.6361 - sub4_out_loss: 0.7239 - conv6_cls_categorical_accuracy: 0.8383 - sub24_out_categorical_accuracy: 0.8252 - sub4_out_categorical_accuracy: 0.7994 - val_loss: 1.1246 - val_conv6_cls_loss: 0.6935 - val_sub24_out_loss: 0.7430 - val_sub4_out_loss: 0.8372 - val_conv6_cls_categorical_accuracy: 0.8026 - val_sub24_out_categorical_accuracy: 0.7923 - val_sub4_out_categorical_accuracy: 0.7638\n",
            "Epoch 24/50\n",
            "217/218 [============================>.] - ETA: 3s - loss: 0.9377 - conv6_cls_loss: 0.5715 - sub24_out_loss: 0.6287 - sub4_out_loss: 0.7169 - conv6_cls_categorical_accuracy: 0.8405 - sub24_out_categorical_accuracy: 0.8271 - sub4_out_categorical_accuracy: 0.8014\n",
            "Epoch 00024: val_conv6_cls_categorical_accuracy improved from 0.81305 to 0.81312, saving model to weights/weights_ICNET.h5\n",
            "WARNING:tensorflow:Cannot update non-variable config: epsilon\n",
            "WARNING:tensorflow:Cannot update non-variable config: amsgrad\n",
            "218/218 [==============================] - 861s 4s/step - loss: 0.9375 - conv6_cls_loss: 0.5714 - sub24_out_loss: 0.6286 - sub4_out_loss: 0.7169 - conv6_cls_categorical_accuracy: 0.8405 - sub24_out_categorical_accuracy: 0.8271 - sub4_out_categorical_accuracy: 0.8014 - val_loss: 1.0879 - val_conv6_cls_loss: 0.6673 - val_sub24_out_loss: 0.7253 - val_sub4_out_loss: 0.8154 - val_conv6_cls_categorical_accuracy: 0.8131 - val_sub24_out_categorical_accuracy: 0.7998 - val_sub4_out_categorical_accuracy: 0.7733\n",
            "Epoch 25/50\n",
            "217/218 [============================>.] - ETA: 3s - loss: 0.9174 - conv6_cls_loss: 0.5585 - sub24_out_loss: 0.6157 - sub4_out_loss: 0.7035 - conv6_cls_categorical_accuracy: 0.8441 - sub24_out_categorical_accuracy: 0.8307 - sub4_out_categorical_accuracy: 0.8050\n",
            "Epoch 00025: val_conv6_cls_categorical_accuracy did not improve from 0.81312\n",
            "218/218 [==============================] - 745s 3s/step - loss: 0.9171 - conv6_cls_loss: 0.5583 - sub24_out_loss: 0.6155 - sub4_out_loss: 0.7033 - conv6_cls_categorical_accuracy: 0.8442 - sub24_out_categorical_accuracy: 0.8307 - sub4_out_categorical_accuracy: 0.8050 - val_loss: 1.1342 - val_conv6_cls_loss: 0.6989 - val_sub24_out_loss: 0.7565 - val_sub4_out_loss: 0.8299 - val_conv6_cls_categorical_accuracy: 0.8047 - val_sub24_out_categorical_accuracy: 0.7899 - val_sub4_out_categorical_accuracy: 0.7666\n",
            "Epoch 26/50\n",
            "217/218 [============================>.] - ETA: 3s - loss: 0.8982 - conv6_cls_loss: 0.5460 - sub24_out_loss: 0.6038 - sub4_out_loss: 0.6918 - conv6_cls_categorical_accuracy: 0.8479 - sub24_out_categorical_accuracy: 0.8344 - sub4_out_categorical_accuracy: 0.8088\n",
            "Epoch 00026: val_conv6_cls_categorical_accuracy did not improve from 0.81312\n",
            "218/218 [==============================] - 746s 3s/step - loss: 0.8983 - conv6_cls_loss: 0.5460 - sub24_out_loss: 0.6038 - sub4_out_loss: 0.6918 - conv6_cls_categorical_accuracy: 0.8479 - sub24_out_categorical_accuracy: 0.8344 - sub4_out_categorical_accuracy: 0.8088 - val_loss: 1.1300 - val_conv6_cls_loss: 0.6963 - val_sub24_out_loss: 0.7540 - val_sub4_out_loss: 0.8252 - val_conv6_cls_categorical_accuracy: 0.8048 - val_sub24_out_categorical_accuracy: 0.7932 - val_sub4_out_categorical_accuracy: 0.7694\n",
            "Epoch 27/50\n",
            "217/218 [============================>.] - ETA: 3s - loss: 0.8892 - conv6_cls_loss: 0.5401 - sub24_out_loss: 0.5977 - sub4_out_loss: 0.6873 - conv6_cls_categorical_accuracy: 0.8501 - sub24_out_categorical_accuracy: 0.8367 - sub4_out_categorical_accuracy: 0.8106\n",
            "Epoch 00027: val_conv6_cls_categorical_accuracy did not improve from 0.81312\n",
            "218/218 [==============================] - 742s 3s/step - loss: 0.8891 - conv6_cls_loss: 0.5401 - sub24_out_loss: 0.5976 - sub4_out_loss: 0.6873 - conv6_cls_categorical_accuracy: 0.8501 - sub24_out_categorical_accuracy: 0.8367 - sub4_out_categorical_accuracy: 0.8106 - val_loss: 1.1512 - val_conv6_cls_loss: 0.7060 - val_sub24_out_loss: 0.7732 - val_sub4_out_loss: 0.8493 - val_conv6_cls_categorical_accuracy: 0.8079 - val_sub24_out_categorical_accuracy: 0.7929 - val_sub4_out_categorical_accuracy: 0.7697\n",
            "Epoch 28/50\n",
            "217/218 [============================>.] - ETA: 3s - loss: 0.8643 - conv6_cls_loss: 0.5241 - sub24_out_loss: 0.5817 - sub4_out_loss: 0.6715 - conv6_cls_categorical_accuracy: 0.8549 - sub24_out_categorical_accuracy: 0.8417 - sub4_out_categorical_accuracy: 0.8158\n",
            "Epoch 00028: val_conv6_cls_categorical_accuracy did not improve from 0.81312\n",
            "218/218 [==============================] - 743s 3s/step - loss: 0.8641 - conv6_cls_loss: 0.5241 - sub24_out_loss: 0.5816 - sub4_out_loss: 0.6714 - conv6_cls_categorical_accuracy: 0.8550 - sub24_out_categorical_accuracy: 0.8417 - sub4_out_categorical_accuracy: 0.8158 - val_loss: 1.1054 - val_conv6_cls_loss: 0.6804 - val_sub24_out_loss: 0.7382 - val_sub4_out_loss: 0.8105 - val_conv6_cls_categorical_accuracy: 0.8115 - val_sub24_out_categorical_accuracy: 0.7986 - val_sub4_out_categorical_accuracy: 0.7759\n",
            "Epoch 29/50\n",
            "217/218 [============================>.] - ETA: 3s - loss: 0.8486 - conv6_cls_loss: 0.5140 - sub24_out_loss: 0.5715 - sub4_out_loss: 0.6627 - conv6_cls_categorical_accuracy: 0.8578 - sub24_out_categorical_accuracy: 0.8445 - sub4_out_categorical_accuracy: 0.8182\n",
            "Epoch 00029: val_conv6_cls_categorical_accuracy improved from 0.81312 to 0.82032, saving model to weights/weights_ICNET.h5\n",
            "WARNING:tensorflow:Cannot update non-variable config: epsilon\n",
            "WARNING:tensorflow:Cannot update non-variable config: amsgrad\n",
            "218/218 [==============================] - 867s 4s/step - loss: 0.8485 - conv6_cls_loss: 0.5139 - sub24_out_loss: 0.5714 - sub4_out_loss: 0.6626 - conv6_cls_categorical_accuracy: 0.8578 - sub24_out_categorical_accuracy: 0.8445 - sub4_out_categorical_accuracy: 0.8182 - val_loss: 1.0790 - val_conv6_cls_loss: 0.6599 - val_sub24_out_loss: 0.7221 - val_sub4_out_loss: 0.8139 - val_conv6_cls_categorical_accuracy: 0.8203 - val_sub24_out_categorical_accuracy: 0.8059 - val_sub4_out_categorical_accuracy: 0.7793\n",
            "Epoch 30/50\n",
            "217/218 [============================>.] - ETA: 3s - loss: 0.8460 - conv6_cls_loss: 0.5117 - sub24_out_loss: 0.5706 - sub4_out_loss: 0.6633 - conv6_cls_categorical_accuracy: 0.8589 - sub24_out_categorical_accuracy: 0.8454 - sub4_out_categorical_accuracy: 0.8187\n",
            "Epoch 00030: val_conv6_cls_categorical_accuracy did not improve from 0.82032\n",
            "218/218 [==============================] - 734s 3s/step - loss: 0.8459 - conv6_cls_loss: 0.5116 - sub24_out_loss: 0.5705 - sub4_out_loss: 0.6631 - conv6_cls_categorical_accuracy: 0.8589 - sub24_out_categorical_accuracy: 0.8454 - sub4_out_categorical_accuracy: 0.8187 - val_loss: 1.1061 - val_conv6_cls_loss: 0.6799 - val_sub24_out_loss: 0.7373 - val_sub4_out_loss: 0.8207 - val_conv6_cls_categorical_accuracy: 0.8163 - val_sub24_out_categorical_accuracy: 0.8016 - val_sub4_out_categorical_accuracy: 0.7779\n",
            "Epoch 31/50\n",
            "217/218 [============================>.] - ETA: 3s - loss: 0.8293 - conv6_cls_loss: 0.5014 - sub24_out_loss: 0.5595 - sub4_out_loss: 0.6505 - conv6_cls_categorical_accuracy: 0.8618 - sub24_out_categorical_accuracy: 0.8483 - sub4_out_categorical_accuracy: 0.8221\n",
            "Epoch 00031: val_conv6_cls_categorical_accuracy did not improve from 0.82032\n",
            "218/218 [==============================] - 734s 3s/step - loss: 0.8292 - conv6_cls_loss: 0.5014 - sub24_out_loss: 0.5595 - sub4_out_loss: 0.6505 - conv6_cls_categorical_accuracy: 0.8618 - sub24_out_categorical_accuracy: 0.8483 - sub4_out_categorical_accuracy: 0.8221 - val_loss: 1.1024 - val_conv6_cls_loss: 0.6805 - val_sub24_out_loss: 0.7315 - val_sub4_out_loss: 0.8083 - val_conv6_cls_categorical_accuracy: 0.8141 - val_sub24_out_categorical_accuracy: 0.8000 - val_sub4_out_categorical_accuracy: 0.7773\n",
            "Epoch 32/50\n",
            "217/218 [============================>.] - ETA: 3s - loss: 0.8139 - conv6_cls_loss: 0.4907 - sub24_out_loss: 0.5505 - sub4_out_loss: 0.6437 - conv6_cls_categorical_accuracy: 0.8647 - sub24_out_categorical_accuracy: 0.8512 - sub4_out_categorical_accuracy: 0.8241\n",
            "Epoch 00032: val_conv6_cls_categorical_accuracy did not improve from 0.82032\n",
            "218/218 [==============================] - 734s 3s/step - loss: 0.8140 - conv6_cls_loss: 0.4908 - sub24_out_loss: 0.5505 - sub4_out_loss: 0.6438 - conv6_cls_categorical_accuracy: 0.8647 - sub24_out_categorical_accuracy: 0.8512 - sub4_out_categorical_accuracy: 0.8241 - val_loss: 1.0915 - val_conv6_cls_loss: 0.6708 - val_sub24_out_loss: 0.7321 - val_sub4_out_loss: 0.7992 - val_conv6_cls_categorical_accuracy: 0.8167 - val_sub24_out_categorical_accuracy: 0.8030 - val_sub4_out_categorical_accuracy: 0.7804\n",
            "Epoch 33/50\n",
            "217/218 [============================>.] - ETA: 3s - loss: 0.8310 - conv6_cls_loss: 0.5019 - sub24_out_loss: 0.5607 - sub4_out_loss: 0.6546 - conv6_cls_categorical_accuracy: 0.8638 - sub24_out_categorical_accuracy: 0.8502 - sub4_out_categorical_accuracy: 0.8230\n",
            "Epoch 00033: val_conv6_cls_categorical_accuracy did not improve from 0.82032\n",
            "218/218 [==============================] - 736s 3s/step - loss: 0.8309 - conv6_cls_loss: 0.5019 - sub24_out_loss: 0.5607 - sub4_out_loss: 0.6545 - conv6_cls_categorical_accuracy: 0.8638 - sub24_out_categorical_accuracy: 0.8502 - sub4_out_categorical_accuracy: 0.8230 - val_loss: 1.1349 - val_conv6_cls_loss: 0.6979 - val_sub24_out_loss: 0.7630 - val_sub4_out_loss: 0.8241 - val_conv6_cls_categorical_accuracy: 0.8160 - val_sub24_out_categorical_accuracy: 0.8014 - val_sub4_out_categorical_accuracy: 0.7771\n",
            "Epoch 34/50\n",
            "217/218 [============================>.] - ETA: 3s - loss: 0.8027 - conv6_cls_loss: 0.4835 - sub24_out_loss: 0.5435 - sub4_out_loss: 0.6360 - conv6_cls_categorical_accuracy: 0.8671 - sub24_out_categorical_accuracy: 0.8535 - sub4_out_categorical_accuracy: 0.8267\n",
            "Epoch 00034: val_conv6_cls_categorical_accuracy did not improve from 0.82032\n",
            "218/218 [==============================] - 733s 3s/step - loss: 0.8025 - conv6_cls_loss: 0.4835 - sub24_out_loss: 0.5434 - sub4_out_loss: 0.6358 - conv6_cls_categorical_accuracy: 0.8672 - sub24_out_categorical_accuracy: 0.8535 - sub4_out_categorical_accuracy: 0.8267 - val_loss: 1.1018 - val_conv6_cls_loss: 0.6800 - val_sub24_out_loss: 0.7340 - val_sub4_out_loss: 0.8010 - val_conv6_cls_categorical_accuracy: 0.8161 - val_sub24_out_categorical_accuracy: 0.8033 - val_sub4_out_categorical_accuracy: 0.7809\n",
            "Epoch 35/50\n",
            "217/218 [============================>.] - ETA: 3s - loss: 0.7858 - conv6_cls_loss: 0.4726 - sub24_out_loss: 0.5325 - sub4_out_loss: 0.6261 - conv6_cls_categorical_accuracy: 0.8707 - sub24_out_categorical_accuracy: 0.8572 - sub4_out_categorical_accuracy: 0.8301\n",
            "Epoch 00035: val_conv6_cls_categorical_accuracy improved from 0.82032 to 0.82117, saving model to weights/weights_ICNET.h5\n",
            "WARNING:tensorflow:Cannot update non-variable config: epsilon\n",
            "WARNING:tensorflow:Cannot update non-variable config: amsgrad\n",
            "218/218 [==============================] - 865s 4s/step - loss: 0.7857 - conv6_cls_loss: 0.4726 - sub24_out_loss: 0.5324 - sub4_out_loss: 0.6260 - conv6_cls_categorical_accuracy: 0.8707 - sub24_out_categorical_accuracy: 0.8572 - sub4_out_categorical_accuracy: 0.8301 - val_loss: 1.0737 - val_conv6_cls_loss: 0.6615 - val_sub24_out_loss: 0.7165 - val_sub4_out_loss: 0.7851 - val_conv6_cls_categorical_accuracy: 0.8212 - val_sub24_out_categorical_accuracy: 0.8074 - val_sub4_out_categorical_accuracy: 0.7830\n",
            "Epoch 36/50\n",
            "217/218 [============================>.] - ETA: 3s - loss: 0.7772 - conv6_cls_loss: 0.4672 - sub24_out_loss: 0.5268 - sub4_out_loss: 0.6202 - conv6_cls_categorical_accuracy: 0.8726 - sub24_out_categorical_accuracy: 0.8591 - sub4_out_categorical_accuracy: 0.8321\n",
            "Epoch 00036: val_conv6_cls_categorical_accuracy did not improve from 0.82117\n",
            "218/218 [==============================] - 740s 3s/step - loss: 0.7770 - conv6_cls_loss: 0.4671 - sub24_out_loss: 0.5267 - sub4_out_loss: 0.6201 - conv6_cls_categorical_accuracy: 0.8727 - sub24_out_categorical_accuracy: 0.8592 - sub4_out_categorical_accuracy: 0.8321 - val_loss: 1.1074 - val_conv6_cls_loss: 0.6794 - val_sub24_out_loss: 0.7460 - val_sub4_out_loss: 0.8097 - val_conv6_cls_categorical_accuracy: 0.8208 - val_sub24_out_categorical_accuracy: 0.8063 - val_sub4_out_categorical_accuracy: 0.7832\n",
            "Epoch 37/50\n",
            "217/218 [============================>.] - ETA: 3s - loss: 0.7630 - conv6_cls_loss: 0.4576 - sub24_out_loss: 0.5187 - sub4_out_loss: 0.6117 - conv6_cls_categorical_accuracy: 0.8754 - sub24_out_categorical_accuracy: 0.8617 - sub4_out_categorical_accuracy: 0.8346\n",
            "Epoch 00037: val_conv6_cls_categorical_accuracy improved from 0.82117 to 0.82303, saving model to weights/weights_ICNET.h5\n",
            "WARNING:tensorflow:Cannot update non-variable config: epsilon\n",
            "WARNING:tensorflow:Cannot update non-variable config: amsgrad\n",
            "218/218 [==============================] - 870s 4s/step - loss: 0.7629 - conv6_cls_loss: 0.4576 - sub24_out_loss: 0.5186 - sub4_out_loss: 0.6117 - conv6_cls_categorical_accuracy: 0.8755 - sub24_out_categorical_accuracy: 0.8618 - sub4_out_categorical_accuracy: 0.8346 - val_loss: 1.0743 - val_conv6_cls_loss: 0.6596 - val_sub24_out_loss: 0.7205 - val_sub4_out_loss: 0.7904 - val_conv6_cls_categorical_accuracy: 0.8230 - val_sub24_out_categorical_accuracy: 0.8083 - val_sub4_out_categorical_accuracy: 0.7850\n",
            "Epoch 38/50\n",
            "217/218 [============================>.] - ETA: 3s - loss: 0.7538 - conv6_cls_loss: 0.4523 - sub24_out_loss: 0.5118 - sub4_out_loss: 0.6051 - conv6_cls_categorical_accuracy: 0.8773 - sub24_out_categorical_accuracy: 0.8638 - sub4_out_categorical_accuracy: 0.8366\n",
            "Epoch 00038: val_conv6_cls_categorical_accuracy did not improve from 0.82303\n",
            "218/218 [==============================] - 733s 3s/step - loss: 0.7538 - conv6_cls_loss: 0.4523 - sub24_out_loss: 0.5118 - sub4_out_loss: 0.6051 - conv6_cls_categorical_accuracy: 0.8773 - sub24_out_categorical_accuracy: 0.8638 - sub4_out_categorical_accuracy: 0.8365 - val_loss: 1.1437 - val_conv6_cls_loss: 0.7055 - val_sub24_out_loss: 0.7638 - val_sub4_out_loss: 0.8291 - val_conv6_cls_categorical_accuracy: 0.8192 - val_sub24_out_categorical_accuracy: 0.8041 - val_sub4_out_categorical_accuracy: 0.7810\n",
            "Epoch 39/50\n",
            "217/218 [============================>.] - ETA: 3s - loss: 0.7447 - conv6_cls_loss: 0.4461 - sub24_out_loss: 0.5063 - sub4_out_loss: 0.6003 - conv6_cls_categorical_accuracy: 0.8791 - sub24_out_categorical_accuracy: 0.8655 - sub4_out_categorical_accuracy: 0.8382\n",
            "Epoch 00039: val_conv6_cls_categorical_accuracy improved from 0.82303 to 0.82538, saving model to weights/weights_ICNET.h5\n",
            "WARNING:tensorflow:Cannot update non-variable config: epsilon\n",
            "WARNING:tensorflow:Cannot update non-variable config: amsgrad\n",
            "218/218 [==============================] - 870s 4s/step - loss: 0.7447 - conv6_cls_loss: 0.4461 - sub24_out_loss: 0.5063 - sub4_out_loss: 0.6002 - conv6_cls_categorical_accuracy: 0.8791 - sub24_out_categorical_accuracy: 0.8655 - sub4_out_categorical_accuracy: 0.8382 - val_loss: 1.0822 - val_conv6_cls_loss: 0.6681 - val_sub24_out_loss: 0.7211 - val_sub4_out_loss: 0.7854 - val_conv6_cls_categorical_accuracy: 0.8254 - val_sub24_out_categorical_accuracy: 0.8120 - val_sub4_out_categorical_accuracy: 0.7884\n",
            "Epoch 40/50\n",
            "217/218 [============================>.] - ETA: 3s - loss: 0.7417 - conv6_cls_loss: 0.4443 - sub24_out_loss: 0.5040 - sub4_out_loss: 0.5990 - conv6_cls_categorical_accuracy: 0.8802 - sub24_out_categorical_accuracy: 0.8667 - sub4_out_categorical_accuracy: 0.8391\n",
            "Epoch 00040: val_conv6_cls_categorical_accuracy did not improve from 0.82538\n",
            "218/218 [==============================] - 734s 3s/step - loss: 0.7415 - conv6_cls_loss: 0.4442 - sub24_out_loss: 0.5039 - sub4_out_loss: 0.5989 - conv6_cls_categorical_accuracy: 0.8802 - sub24_out_categorical_accuracy: 0.8668 - sub4_out_categorical_accuracy: 0.8391 - val_loss: 1.1340 - val_conv6_cls_loss: 0.7031 - val_sub24_out_loss: 0.7501 - val_sub4_out_loss: 0.8178 - val_conv6_cls_categorical_accuracy: 0.8201 - val_sub24_out_categorical_accuracy: 0.8075 - val_sub4_out_categorical_accuracy: 0.7850\n",
            "Epoch 41/50\n",
            "217/218 [============================>.] - ETA: 3s - loss: 0.7310 - conv6_cls_loss: 0.4373 - sub24_out_loss: 0.4973 - sub4_out_loss: 0.5922 - conv6_cls_categorical_accuracy: 0.8821 - sub24_out_categorical_accuracy: 0.8686 - sub4_out_categorical_accuracy: 0.8409\n",
            "Epoch 00041: val_conv6_cls_categorical_accuracy did not improve from 0.82538\n",
            "218/218 [==============================] - 738s 3s/step - loss: 0.7308 - conv6_cls_loss: 0.4372 - sub24_out_loss: 0.4972 - sub4_out_loss: 0.5920 - conv6_cls_categorical_accuracy: 0.8821 - sub24_out_categorical_accuracy: 0.8686 - sub4_out_categorical_accuracy: 0.8410 - val_loss: 1.1209 - val_conv6_cls_loss: 0.6958 - val_sub24_out_loss: 0.7424 - val_sub4_out_loss: 0.8010 - val_conv6_cls_categorical_accuracy: 0.8218 - val_sub24_out_categorical_accuracy: 0.8098 - val_sub4_out_categorical_accuracy: 0.7866\n",
            "Epoch 42/50\n",
            "217/218 [============================>.] - ETA: 3s - loss: 0.7231 - conv6_cls_loss: 0.4313 - sub24_out_loss: 0.4938 - sub4_out_loss: 0.5891 - conv6_cls_categorical_accuracy: 0.8840 - sub24_out_categorical_accuracy: 0.8702 - sub4_out_categorical_accuracy: 0.8425\n",
            "Epoch 00042: val_conv6_cls_categorical_accuracy improved from 0.82538 to 0.82599, saving model to weights/weights_ICNET.h5\n",
            "WARNING:tensorflow:Cannot update non-variable config: epsilon\n",
            "WARNING:tensorflow:Cannot update non-variable config: amsgrad\n",
            "218/218 [==============================] - 871s 4s/step - loss: 0.7231 - conv6_cls_loss: 0.4313 - sub24_out_loss: 0.4938 - sub4_out_loss: 0.5891 - conv6_cls_categorical_accuracy: 0.8840 - sub24_out_categorical_accuracy: 0.8702 - sub4_out_categorical_accuracy: 0.8425 - val_loss: 1.0825 - val_conv6_cls_loss: 0.6681 - val_sub24_out_loss: 0.7217 - val_sub4_out_loss: 0.7859 - val_conv6_cls_categorical_accuracy: 0.8260 - val_sub24_out_categorical_accuracy: 0.8132 - val_sub4_out_categorical_accuracy: 0.7896\n",
            "Epoch 43/50\n",
            "217/218 [============================>.] - ETA: 3s - loss: 0.7286 - conv6_cls_loss: 0.4360 - sub24_out_loss: 0.4957 - sub4_out_loss: 0.5895 - conv6_cls_categorical_accuracy: 0.8833 - sub24_out_categorical_accuracy: 0.8699 - sub4_out_categorical_accuracy: 0.8424\n",
            "Epoch 00043: val_conv6_cls_categorical_accuracy did not improve from 0.82599\n",
            "218/218 [==============================] - 736s 3s/step - loss: 0.7284 - conv6_cls_loss: 0.4359 - sub24_out_loss: 0.4955 - sub4_out_loss: 0.5893 - conv6_cls_categorical_accuracy: 0.8834 - sub24_out_categorical_accuracy: 0.8699 - sub4_out_categorical_accuracy: 0.8424 - val_loss: 1.1133 - val_conv6_cls_loss: 0.6838 - val_sub24_out_loss: 0.7488 - val_sub4_out_loss: 0.8125 - val_conv6_cls_categorical_accuracy: 0.8245 - val_sub24_out_categorical_accuracy: 0.8101 - val_sub4_out_categorical_accuracy: 0.7873\n",
            "Epoch 44/50\n",
            "217/218 [============================>.] - ETA: 3s - loss: 0.7147 - conv6_cls_loss: 0.4270 - sub24_out_loss: 0.4864 - sub4_out_loss: 0.5821 - conv6_cls_categorical_accuracy: 0.8854 - sub24_out_categorical_accuracy: 0.8720 - sub4_out_categorical_accuracy: 0.8442\n",
            "Epoch 00044: val_conv6_cls_categorical_accuracy did not improve from 0.82599\n",
            "218/218 [==============================] - 739s 3s/step - loss: 0.7145 - conv6_cls_loss: 0.4269 - sub24_out_loss: 0.4863 - sub4_out_loss: 0.5820 - conv6_cls_categorical_accuracy: 0.8854 - sub24_out_categorical_accuracy: 0.8720 - sub4_out_categorical_accuracy: 0.8443 - val_loss: 1.0814 - val_conv6_cls_loss: 0.6680 - val_sub24_out_loss: 0.7199 - val_sub4_out_loss: 0.7833 - val_conv6_cls_categorical_accuracy: 0.8254 - val_sub24_out_categorical_accuracy: 0.8126 - val_sub4_out_categorical_accuracy: 0.7893\n",
            "Epoch 45/50\n",
            "217/218 [============================>.] - ETA: 3s - loss: 0.7090 - conv6_cls_loss: 0.4233 - sub24_out_loss: 0.4831 - sub4_out_loss: 0.5777 - conv6_cls_categorical_accuracy: 0.8869 - sub24_out_categorical_accuracy: 0.8735 - sub4_out_categorical_accuracy: 0.8459\n",
            "Epoch 00045: val_conv6_cls_categorical_accuracy did not improve from 0.82599\n",
            "218/218 [==============================] - 743s 3s/step - loss: 0.7089 - conv6_cls_loss: 0.4232 - sub24_out_loss: 0.4830 - sub4_out_loss: 0.5776 - conv6_cls_categorical_accuracy: 0.8869 - sub24_out_categorical_accuracy: 0.8735 - sub4_out_categorical_accuracy: 0.8459 - val_loss: 1.1374 - val_conv6_cls_loss: 0.7024 - val_sub24_out_loss: 0.7614 - val_sub4_out_loss: 0.8156 - val_conv6_cls_categorical_accuracy: 0.8218 - val_sub24_out_categorical_accuracy: 0.8071 - val_sub4_out_categorical_accuracy: 0.7861\n",
            "Epoch 46/50\n",
            "217/218 [============================>.] - ETA: 3s - loss: 0.7017 - conv6_cls_loss: 0.4179 - sub24_out_loss: 0.4795 - sub4_out_loss: 0.5751 - conv6_cls_categorical_accuracy: 0.8884 - sub24_out_categorical_accuracy: 0.8747 - sub4_out_categorical_accuracy: 0.8471\n",
            "Epoch 00046: val_conv6_cls_categorical_accuracy did not improve from 0.82599\n",
            "218/218 [==============================] - 738s 3s/step - loss: 0.7017 - conv6_cls_loss: 0.4179 - sub24_out_loss: 0.4794 - sub4_out_loss: 0.5751 - conv6_cls_categorical_accuracy: 0.8883 - sub24_out_categorical_accuracy: 0.8747 - sub4_out_categorical_accuracy: 0.8471 - val_loss: 1.1231 - val_conv6_cls_loss: 0.6936 - val_sub24_out_loss: 0.7497 - val_sub4_out_loss: 0.8100 - val_conv6_cls_categorical_accuracy: 0.8234 - val_sub24_out_categorical_accuracy: 0.8096 - val_sub4_out_categorical_accuracy: 0.7867\n",
            "Epoch 47/50\n",
            "217/218 [============================>.] - ETA: 3s - loss: 0.6938 - conv6_cls_loss: 0.4128 - sub24_out_loss: 0.4745 - sub4_out_loss: 0.5697 - conv6_cls_categorical_accuracy: 0.8898 - sub24_out_categorical_accuracy: 0.8761 - sub4_out_categorical_accuracy: 0.8484\n",
            "Epoch 00047: val_conv6_cls_categorical_accuracy did not improve from 0.82599\n",
            "218/218 [==============================] - 740s 3s/step - loss: 0.6938 - conv6_cls_loss: 0.4128 - sub24_out_loss: 0.4745 - sub4_out_loss: 0.5697 - conv6_cls_categorical_accuracy: 0.8898 - sub24_out_categorical_accuracy: 0.8761 - sub4_out_categorical_accuracy: 0.8484 - val_loss: 1.1397 - val_conv6_cls_loss: 0.7094 - val_sub24_out_loss: 0.7519 - val_sub4_out_loss: 0.8094 - val_conv6_cls_categorical_accuracy: 0.8209 - val_sub24_out_categorical_accuracy: 0.8086 - val_sub4_out_categorical_accuracy: 0.7853\n",
            "Epoch 48/50\n",
            "217/218 [============================>.] - ETA: 3s - loss: 0.6874 - conv6_cls_loss: 0.4083 - sub24_out_loss: 0.4712 - sub4_out_loss: 0.5664 - conv6_cls_categorical_accuracy: 0.8909 - sub24_out_categorical_accuracy: 0.8771 - sub4_out_categorical_accuracy: 0.8495\n",
            "Epoch 00048: val_conv6_cls_categorical_accuracy improved from 0.82599 to 0.82993, saving model to weights/weights_ICNET.h5\n",
            "WARNING:tensorflow:Cannot update non-variable config: epsilon\n",
            "WARNING:tensorflow:Cannot update non-variable config: amsgrad\n",
            "218/218 [==============================] - 876s 4s/step - loss: 0.6873 - conv6_cls_loss: 0.4082 - sub24_out_loss: 0.4711 - sub4_out_loss: 0.5663 - conv6_cls_categorical_accuracy: 0.8909 - sub24_out_categorical_accuracy: 0.8771 - sub4_out_categorical_accuracy: 0.8495 - val_loss: 1.0741 - val_conv6_cls_loss: 0.6641 - val_sub24_out_loss: 0.7139 - val_sub4_out_loss: 0.7782 - val_conv6_cls_categorical_accuracy: 0.8299 - val_sub24_out_categorical_accuracy: 0.8165 - val_sub4_out_categorical_accuracy: 0.7937\n",
            "Epoch 49/50\n",
            "217/218 [============================>.] - ETA: 3s - loss: 0.6810 - conv6_cls_loss: 0.4051 - sub24_out_loss: 0.4656 - sub4_out_loss: 0.5606 - conv6_cls_categorical_accuracy: 0.8921 - sub24_out_categorical_accuracy: 0.8786 - sub4_out_categorical_accuracy: 0.8509\n",
            "Epoch 00049: val_conv6_cls_categorical_accuracy did not improve from 0.82993\n",
            "218/218 [==============================] - 729s 3s/step - loss: 0.6811 - conv6_cls_loss: 0.4051 - sub24_out_loss: 0.4656 - sub4_out_loss: 0.5606 - conv6_cls_categorical_accuracy: 0.8921 - sub24_out_categorical_accuracy: 0.8786 - sub4_out_categorical_accuracy: 0.8508 - val_loss: 1.1392 - val_conv6_cls_loss: 0.7032 - val_sub24_out_loss: 0.7607 - val_sub4_out_loss: 0.8231 - val_conv6_cls_categorical_accuracy: 0.8218 - val_sub24_out_categorical_accuracy: 0.8071 - val_sub4_out_categorical_accuracy: 0.7842\n",
            "Epoch 50/50\n",
            "217/218 [============================>.] - ETA: 3s - loss: 0.6826 - conv6_cls_loss: 0.4058 - sub24_out_loss: 0.4673 - sub4_out_loss: 0.5619 - conv6_cls_categorical_accuracy: 0.8926 - sub24_out_categorical_accuracy: 0.8790 - sub4_out_categorical_accuracy: 0.8512\n",
            "Epoch 00050: val_conv6_cls_categorical_accuracy did not improve from 0.82993\n",
            "218/218 [==============================] - 741s 3s/step - loss: 0.6826 - conv6_cls_loss: 0.4058 - sub24_out_loss: 0.4673 - sub4_out_loss: 0.5619 - conv6_cls_categorical_accuracy: 0.8926 - sub24_out_categorical_accuracy: 0.8790 - sub4_out_categorical_accuracy: 0.8512 - val_loss: 1.0875 - val_conv6_cls_loss: 0.6709 - val_sub24_out_loss: 0.7251 - val_sub4_out_loss: 0.7909 - val_conv6_cls_categorical_accuracy: 0.8292 - val_sub24_out_categorical_accuracy: 0.8154 - val_sub4_out_categorical_accuracy: 0.7929\n",
            "Training end\n"
          ],
          "name": "stdout"
        }
      ]
    },
    {
      "metadata": {
        "id": "txqBs5ju5RMZ",
        "colab_type": "code",
        "colab": {}
      },
      "cell_type": "code",
      "source": [
        "from google.colab import files\n",
        "\n",
        "files.download('weights/weights_ICNET.h5')"
      ],
      "execution_count": 0,
      "outputs": []
    },
    {
      "metadata": {
        "id": "pMB3V2IgO_sm",
        "colab_type": "code",
        "colab": {}
      },
      "cell_type": "code",
      "source": [
        "import glob\n",
        "\n",
        "file_names = glob.glob('history/*')\n",
        "\n",
        "for file_name in file_names:\n",
        "    files.download(file_name)"
      ],
      "execution_count": 0,
      "outputs": []
    }
  ]
}