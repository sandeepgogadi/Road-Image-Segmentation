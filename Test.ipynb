{
 "cells": [
  {
   "cell_type": "code",
   "execution_count": null,
   "metadata": {},
   "outputs": [],
   "source": [
    "import os\n",
    "import pickle\n",
    "import cv2\n",
    "import numpy as np\n",
    "import glob"
   ]
  },
  {
   "cell_type": "code",
   "execution_count": null,
   "metadata": {},
   "outputs": [],
   "source": [
    "def get_class_weights(num_classes):\n",
    "    if os.path.isfile('class_weights.p'):\n",
    "        class_weights = pickle.load(open(\"class_weights.p\", \"rb\"))\n",
    "    else:\n",
    "        class_weights_arr = np.zeros(num_classes)\n",
    "        labels_list = sorted(glob.glob('data/train/labels/*'))\n",
    "\n",
    "        for idx in range(len(labels_list)):\n",
    "            img_weights = np.zeros(num_classes)\n",
    "            img = cv2.imread(labels_list[idx], 0)\n",
    "            for i in range(num_classes):\n",
    "                if i == 19:\n",
    "                    img_weights[i] = (img == 255).sum()\n",
    "                else:    \n",
    "                    img_weights[i] = (img == i).sum()\n",
    "            img_weights = img_weights/(img.shape[0]*img.shape[1])\n",
    "            class_weights_arr += img_weights\n",
    "            \n",
    "        class_weights_arr /= len(labels_list)\n",
    "        \n",
    "        class_weights = {}\n",
    "        \n",
    "        for i in range(num_classes):\n",
    "            class_weights[i] = class_weights_arr[i]\n",
    "            \n",
    "        pickle.dump(class_weights, open(\"class_weights.p\", \"wb\"))\n",
    "        \n",
    "    return class_weights  "
   ]
  },
  {
   "cell_type": "code",
   "execution_count": null,
   "metadata": {},
   "outputs": [],
   "source": [
    "print(get_class_weights(20))"
   ]
  },
  {
   "cell_type": "code",
   "execution_count": 1,
   "metadata": {},
   "outputs": [],
   "source": [
    "%matplotlib inline\n",
    "import os\n",
    "import cv2\n",
    "import glob\n",
    "import matplotlib.pyplot as plt\n",
    "import random\n",
    "import numpy as np\n",
    "import label"
   ]
  },
  {
   "cell_type": "code",
   "execution_count": 2,
   "metadata": {},
   "outputs": [],
   "source": [
    "def detail_images(image_file, label_file, labels):\n",
    "    \n",
    "    print('Image file:', image_file.split('/')[-1])\n",
    "    print('Label file:', label_file.split('/')[-1])\n",
    "    \n",
    "    train_img = plt.imread(image_file)\n",
    "    label_img = cv2.imread(label_file, 0)\n",
    "    color_img = np.zeros(train_img.shape, np.uint8)\n",
    "    \n",
    "    for i in range(len(labels)):\n",
    "        trainId = labels[i].trainId\n",
    "        if trainId != 255:\n",
    "            color = labels[i].color\n",
    "            color_img[label_img == trainId] = color           \n",
    "            \n",
    "    print('Shapes of train, label, color:', \n",
    "          train_img.shape, label_img.shape, color_img.shape)\n",
    "    print('Dtype of train, label, color:', \n",
    "          train_img.dtype, label_img.dtype, color_img.dtype)\n",
    "    print('Max values of train, label, color:', \n",
    "         np.max(train_img), np.max(label_img), np.max(color_img))\n",
    "    print('Min values of train, label, color:', \n",
    "         np.min(train_img), np.min(label_img), np.min(color_img)) \n",
    "    \n",
    "    unique = np.unique(label_img)\n",
    "    \n",
    "    print('Classes in image:', unique)\n",
    "\n",
    "    plt.figure(figsize=(9, 14))\n",
    "\n",
    "    plt.subplot(3,1,1)\n",
    "    plt.imshow(train_img)\n",
    "    plt.axis('off')\n",
    "\n",
    "    plt.subplot(3,1,2)\n",
    "    plt.imshow(label_img)\n",
    "    plt.axis('off')\n",
    "\n",
    "    plt.subplot(3,1,3)\n",
    "    plt.imshow(color_img)\n",
    "    plt.axis('off')    \n",
    "    \n",
    "    plt.show()"
   ]
  },
  {
   "cell_type": "code",
   "execution_count": 3,
   "metadata": {},
   "outputs": [
    {
     "name": "stdout",
     "output_type": "stream",
     "text": [
      "No of images and Labels: 0 0\n",
      "Index: 0\n"
     ]
    },
    {
     "ename": "IndexError",
     "evalue": "list index out of range",
     "output_type": "error",
     "traceback": [
      "\u001b[0;31m---------------------------------------------------------------------------\u001b[0m",
      "\u001b[0;31mIndexError\u001b[0m                                Traceback (most recent call last)",
      "\u001b[0;32m<ipython-input-3-6f0f4b96fa03>\u001b[0m in \u001b[0;36m<module>\u001b[0;34m\u001b[0m\n\u001b[1;32m      6\u001b[0m \u001b[0midx\u001b[0m \u001b[0;34m=\u001b[0m \u001b[0mrandom\u001b[0m\u001b[0;34m.\u001b[0m\u001b[0mrandint\u001b[0m\u001b[0;34m(\u001b[0m\u001b[0;36m0\u001b[0m\u001b[0;34m,\u001b[0m \u001b[0mlen\u001b[0m\u001b[0;34m(\u001b[0m\u001b[0mimages_train\u001b[0m\u001b[0;34m)\u001b[0m\u001b[0;34m)\u001b[0m\u001b[0;34m\u001b[0m\u001b[0m\n\u001b[1;32m      7\u001b[0m \u001b[0mprint\u001b[0m\u001b[0;34m(\u001b[0m\u001b[0;34m'Index:'\u001b[0m\u001b[0;34m,\u001b[0m \u001b[0midx\u001b[0m\u001b[0;34m)\u001b[0m\u001b[0;34m\u001b[0m\u001b[0m\n\u001b[0;32m----> 8\u001b[0;31m detail_images(images_train[idx], labels_train[idx], \n\u001b[0m\u001b[1;32m      9\u001b[0m               label.labels, 'bdd')\n",
      "\u001b[0;31mIndexError\u001b[0m: list index out of range"
     ]
    }
   ],
   "source": [
    "images_train = sorted(glob.glob('Data/bdd100k/seg/images/train/*'))\n",
    "labels_train = sorted(glob.glob('Data/bdd100k/seg/labels/train/*'))\n",
    "\n",
    "print('No of images and Labels:', len(images_train), len(labels_train))\n",
    "\n",
    "idx = random.randint(0, len(images_train))\n",
    "print('Index:', idx)\n",
    "detail_images(images_train[idx], labels_train[idx], \n",
    "              label.labels, 'bdd')"
   ]
  },
  {
   "cell_type": "code",
   "execution_count": 4,
   "metadata": {},
   "outputs": [
    {
     "data": {
      "text/plain": [
       "True"
      ]
     },
     "execution_count": 4,
     "metadata": {},
     "output_type": "execute_result"
    }
   ],
   "source": [
    "from label import labels\n",
    "\n",
    "images_train = sorted(glob.glob('data/train/images/*'))\n",
    "labels_train = sorted(glob.glob('data/train/labels/*'))\n",
    "\n",
    "idx = 100\n",
    "\n",
    "img = cv2.imread(images_train[idx])\n",
    "label = cv2.imread(labels_train[idx], 0)\n",
    "\n",
    "img = cv2.resize(img, (1280, 640))\n",
    "label = cv2.resize(label, (1280, 640))\n",
    "\n",
    "color_img = np.zeros(img.shape, np.uint8)\n",
    "\n",
    "for i in range(len(labels)):\n",
    "    trainId = labels[i].trainId\n",
    "    if trainId != 255:\n",
    "        color = labels[i].color\n",
    "        color_img[label == trainId] = color  \n",
    "\n",
    "cv2.imwrite('img.jpg', img)\n",
    "cv2.imwrite('label.jpg', label)\n",
    "cv2.imwrite('color_img.jpg', color_img)"
   ]
  },
  {
   "cell_type": "code",
   "execution_count": 5,
   "metadata": {},
   "outputs": [
    {
     "name": "stdout",
     "output_type": "stream",
     "text": [
      "{'Bird': [165, 42, 42], 'Ground Animal': [0, 192, 0], 'Curb': [196, 196, 196], 'Fence': [190, 153, 153], 'Guard Rail': [180, 165, 180], 'Barrier': [90, 120, 150], 'Wall': [102, 102, 156], 'Bike Lane': [128, 64, 255], 'Crosswalk - Plain': [140, 140, 200], 'Curb Cut': [170, 170, 170], 'Parking': [250, 170, 160], 'Pedestrian Area': [96, 96, 96], 'Rail Track': [230, 150, 140], 'Road': [128, 64, 128], 'Service Lane': [110, 110, 110], 'Sidewalk': [244, 35, 232], 'Bridge': [150, 100, 100], 'Building': [70, 70, 70], 'Tunnel': [150, 120, 90], 'Person': [220, 20, 60], 'Bicyclist': [255, 0, 0], 'Motorcyclist': [255, 0, 100], 'Other Rider': [255, 0, 200], 'Lane Marking - Crosswalk': [200, 128, 128], 'Lane Marking - General': [255, 255, 255], 'Mountain': [64, 170, 64], 'Sand': [230, 160, 50], 'Sky': [70, 130, 180], 'Snow': [190, 255, 255], 'Terrain': [152, 251, 152], 'Vegetation': [107, 142, 35], 'Water': [0, 170, 30], 'Banner': [255, 255, 128], 'Bench': [250, 0, 30], 'Bike Rack': [100, 140, 180], 'Billboard': [220, 220, 220], 'Catch Basin': [220, 128, 128], 'CCTV Camera': [222, 40, 40], 'Fire Hydrant': [100, 170, 30], 'Junction Box': [40, 40, 40], 'Mailbox': [33, 33, 33], 'Manhole': [100, 128, 160], 'Phone Booth': [142, 0, 0], 'Pothole': [70, 100, 150], 'Street Light': [210, 170, 100], 'Pole': [153, 153, 153], 'Traffic Sign Frame': [128, 128, 128], 'Utility Pole': [0, 0, 80], 'Traffic Light': [250, 170, 30], 'Traffic Sign (Back)': [192, 192, 192], 'Traffic Sign (Front)': [220, 220, 0], 'Trash Can': [140, 140, 20], 'Bicycle': [119, 11, 32], 'Boat': [150, 0, 255], 'Bus': [0, 60, 100], 'Car': [0, 0, 142], 'Caravan': [0, 0, 90], 'Motorcycle': [0, 0, 230], 'On Rails': [0, 80, 100], 'Other Vehicle': [128, 64, 64], 'Trailer': [0, 0, 110], 'Truck': [0, 0, 70], 'Wheeled Slow': [0, 0, 192], 'Car Mount': [32, 32, 32], 'Ego Vehicle': [120, 10, 10], 'Unlabeled': [0, 0, 0]}\n"
     ]
    }
   ],
   "source": [
    "import json\n",
    "\n",
    "mapillary_dict = {}\n",
    "\n",
    "with open('config.json') as config_file:\n",
    "    config = json.load(config_file)\n",
    "    labels = config['labels']\n",
    "    #print((labels[0]))\n",
    "    for label in labels:\n",
    "        #print(label['color'], label['readable'])\n",
    "        mapillary_dict[label['readable']] = label['color']\n",
    "        \n",
    "print(mapillary_dict)        \n",
    "    "
   ]
  },
  {
   "cell_type": "code",
   "execution_count": 6,
   "metadata": {},
   "outputs": [
    {
     "name": "stdout",
     "output_type": "stream",
     "text": [
      "------> bird\n",
      "------> ground animal\n",
      "------> curb\n",
      "------> barrier\n",
      "------> bike lane\n",
      "------> crosswalk - plain\n",
      "------> curb cut\n",
      "------> pedestrian area\n",
      "------> service lane\n",
      "------> bicyclist\n",
      "------> motorcyclist\n",
      "------> other rider\n",
      "------> lane marking - crosswalk\n",
      "------> lane marking - general\n",
      "------> mountain\n",
      "------> sand\n",
      "------> snow\n",
      "------> water\n",
      "------> bench\n",
      "------> bike rack\n",
      "------> catch basin\n",
      "------> cctv camera\n",
      "------> fire hydrant\n",
      "------> junction box\n",
      "------> mailbox\n",
      "------> manhole\n",
      "------> phone booth\n",
      "------> pothole\n",
      "------> utility pole\n",
      "------> traffic sign (back)\n",
      "------> traffic sign (front)\n",
      "------> trash can\n",
      "------> boat\n",
      "------> on rails\n",
      "------> other vehicle\n",
      "------> wheeled slow\n",
      "------> car mount\n",
      "29\n",
      "banner\n",
      "bicycle\n",
      "billboard\n",
      "bridge\n",
      "building\n",
      "bus\n",
      "car\n",
      "caravan\n",
      "ego vehicle\n",
      "fence\n",
      "guard rail\n",
      "motorcycle\n",
      "parking\n",
      "person\n",
      "pole\n",
      "rail track\n",
      "road\n",
      "sidewalk\n",
      "sky\n",
      "street light\n",
      "terrain\n",
      "traffic light\n",
      "traffic sign frame\n",
      "trailer\n",
      "truck\n",
      "tunnel\n",
      "unlabeled\n",
      "vegetation\n",
      "wall\n"
     ]
    }
   ],
   "source": [
    "import label\n",
    "\n",
    "bdd = label.labels\n",
    "bdd_dict = {label.name: label.trainId for label in bdd}\n",
    "fil = []\n",
    "\n",
    "for name in mapillary_dict:\n",
    "    name = name.lower()\n",
    "    if name not in bdd_dict:\n",
    "        print('------>', name)\n",
    "    else:\n",
    "        fil.append(name)\n",
    "        #print(name)\n",
    "        \n",
    "print(len(fil))  \n",
    "\n",
    "for c in sorted(fil):\n",
    "    print(c)"
   ]
  },
  {
   "cell_type": "code",
   "execution_count": 7,
   "metadata": {},
   "outputs": [
    {
     "name": "stdout",
     "output_type": "stream",
     "text": [
      "{'Bird': [255, [165, 42, 42]], 'Ground Animal': [255, [0, 192, 0]], 'Curb': [255, [196, 196, 196]], 'Fence': [4, [190, 153, 153]], 'Guard Rail': [255, [180, 165, 180]], 'Barrier': [255, [90, 120, 150]], 'Wall': [3, [102, 102, 156]], 'Bike Lane': [255, [128, 64, 255]], 'Crosswalk - Plain': [255, [140, 140, 200]], 'Curb Cut': [255, [170, 170, 170]], 'Parking': [255, [250, 170, 160]], 'Pedestrian Area': [255, [96, 96, 96]], 'Rail Track': [255, [230, 150, 140]], 'Road': [0, [128, 64, 128]], 'Service Lane': [255, [110, 110, 110]], 'Sidewalk': [1, [244, 35, 232]], 'Bridge': [255, [150, 100, 100]], 'Building': [2, [70, 70, 70]], 'Tunnel': [255, [150, 120, 90]], 'Person': [11, [220, 20, 60]], 'Bicyclist': [12, [255, 0, 0]], 'Motorcyclist': [12, [255, 0, 100]], 'Other Rider': [255, [255, 0, 200]], 'Lane Marking - Crosswalk': [255, [200, 128, 128]], 'Lane Marking - General': [255, [255, 255, 255]], 'Mountain': [255, [64, 170, 64]], 'Sand': [255, [230, 160, 50]], 'Sky': [10, [70, 130, 180]], 'Snow': [255, [190, 255, 255]], 'Terrain': [9, [152, 251, 152]], 'Vegetation': [8, [107, 142, 35]], 'Water': [255, [0, 170, 30]], 'Banner': [255, [255, 255, 128]], 'Bench': [255, [250, 0, 30]], 'Bike Rack': [255, [100, 140, 180]], 'Billboard': [255, [220, 220, 220]], 'Catch Basin': [255, [220, 128, 128]], 'CCTV Camera': [255, [222, 40, 40]], 'Fire Hydrant': [255, [100, 170, 30]], 'Junction Box': [255, [40, 40, 40]], 'Mailbox': [255, [33, 33, 33]], 'Manhole': [255, [100, 128, 160]], 'Phone Booth': [255, [142, 0, 0]], 'Pothole': [255, [70, 100, 150]], 'Street Light': [255, [210, 170, 100]], 'Pole': [5, [153, 153, 153]], 'Traffic Sign Frame': [255, [128, 128, 128]], 'Utility Pole': [255, [0, 0, 80]], 'Traffic Light': [6, [250, 170, 30]], 'Traffic Sign (Back)': [7, [192, 192, 192]], 'Traffic Sign (Front)': [7, [220, 220, 0]], 'Trash Can': [255, [140, 140, 20]], 'Bicycle': [18, [119, 11, 32]], 'Boat': [255, [150, 0, 255]], 'Bus': [15, [0, 60, 100]], 'Car': [13, [0, 0, 142]], 'Caravan': [255, [0, 0, 90]], 'Motorcycle': [17, [0, 0, 230]], 'On Rails': [255, [0, 80, 100]], 'Other Vehicle': [255, [128, 64, 64]], 'Trailer': [255, [0, 0, 110]], 'Truck': [14, [0, 0, 70]], 'Wheeled Slow': [255, [0, 0, 192]], 'Car Mount': [255, [32, 32, 32]], 'Ego Vehicle': [255, [120, 10, 10]], 'Unlabeled': [255, [0, 0, 0]]}\n"
     ]
    }
   ],
   "source": [
    "import json\n",
    "import label\n",
    "\n",
    "bdd = label.labels\n",
    "\n",
    "mapillary_dict = {}\n",
    "\n",
    "with open('config.json') as config_file:\n",
    "    config = json.load(config_file)\n",
    "    labels = config['labels']\n",
    "    for label in labels:\n",
    "        mapillary_dict[label['readable']] = label['color']        \n",
    "\n",
    "bdd_dict = {label.name: label.trainId for label in bdd}\n",
    "\n",
    "mapillary_trainId = {}\n",
    "\n",
    "for name in mapillary_dict:\n",
    "    \n",
    "    l_name = name.lower()\n",
    "    \n",
    "    if l_name in ['motorcyclist', 'bicyclist']:\n",
    "        l_name = 'rider'\n",
    "    elif l_name in ['traffic sign (back)', 'traffic sign (front)']:\n",
    "        l_name = 'traffic sign'\n",
    "    \n",
    "    if l_name in bdd_dict:\n",
    "        mapillary_trainId[name] = [bdd_dict[l_name], mapillary_dict[name]]\n",
    "    else:\n",
    "        mapillary_trainId[name] = [255, mapillary_dict[name]]\n",
    "\n",
    "print(mapillary_trainId) "
   ]
  },
  {
   "cell_type": "code",
   "execution_count": 8,
   "metadata": {},
   "outputs": [
    {
     "name": "stdout",
     "output_type": "stream",
     "text": [
      "{0: 255, 1: 255, 2: 255, 3: 4, 4: 255, 5: 255, 6: 3, 7: 255, 8: 255, 9: 255, 10: 255, 11: 255, 12: 255, 13: 0, 14: 255, 15: 1, 16: 255, 17: 2, 18: 255, 19: 11, 20: 12, 21: 12, 22: 255, 23: 255, 24: 255, 25: 255, 26: 255, 27: 10, 28: 255, 29: 9, 30: 8, 31: 255, 32: 255, 33: 255, 34: 255, 35: 255, 36: 255, 37: 255, 38: 255, 39: 255, 40: 255, 41: 255, 42: 255, 43: 255, 44: 255, 45: 5, 46: 255, 47: 255, 48: 6, 49: 7, 50: 7, 51: 255, 52: 18, 53: 255, 54: 15, 55: 13, 56: 255, 57: 17, 58: 255, 59: 255, 60: 255, 61: 14, 62: 255, 63: 255, 64: 255, 65: 255}\n"
     ]
    }
   ],
   "source": [
    "import json\n",
    "import label\n",
    "\n",
    "bdd = label.labels\n",
    "\n",
    "mapillary_dict = {}\n",
    "\n",
    "with open('config.json') as config_file:\n",
    "    config = json.load(config_file)\n",
    "    labels = config['labels']\n",
    "    for idx, label in enumerate(labels):\n",
    "        mapillary_dict[label['readable']] = idx        \n",
    "\n",
    "bdd_dict = {label.name: label.trainId for label in bdd}\n",
    "\n",
    "mapillary_trainId = {}\n",
    "\n",
    "for name in mapillary_dict:\n",
    "    \n",
    "    l_name = name.lower()\n",
    "    \n",
    "    if l_name in ['motorcyclist', 'bicyclist']:\n",
    "        l_name = 'rider'\n",
    "    elif l_name in ['traffic sign (back)', 'traffic sign (front)']:\n",
    "        l_name = 'traffic sign'\n",
    "    \n",
    "    if l_name in bdd_dict:\n",
    "        mapillary_trainId[mapillary_dict[name]] = bdd_dict[l_name]\n",
    "    else:\n",
    "        mapillary_trainId[mapillary_dict[name]] = 255\n",
    "\n",
    "print(mapillary_trainId)    "
   ]
  },
  {
   "cell_type": "code",
   "execution_count": 9,
   "metadata": {},
   "outputs": [
    {
     "name": "stdout",
     "output_type": "stream",
     "text": [
      "{0: 255, 1: 255, 2: 255, 3: 4, 4: 255, 5: 255, 6: 3, 7: 255, 8: 255, 9: 255, 10: 255, 11: 255, 12: 255, 13: 0, 14: 255, 15: 1, 16: 255, 17: 2, 18: 255, 19: 11, 20: 12, 21: 12, 22: 255, 23: 255, 24: 255, 25: 255, 26: 255, 27: 10, 28: 255, 29: 9, 30: 8, 31: 255, 32: 255, 33: 255, 34: 255, 35: 255, 36: 255, 37: 255, 38: 255, 39: 255, 40: 255, 41: 255, 42: 255, 43: 255, 44: 255, 45: 5, 46: 255, 47: 255, 48: 6, 49: 7, 50: 7, 51: 255, 52: 18, 53: 255, 54: 15, 55: 13, 56: 255, 57: 17, 58: 255, 59: 255, 60: 255, 61: 14, 62: 255, 63: 255, 64: 255, 65: 255}\n"
     ]
    }
   ],
   "source": [
    "mapillary_dict = {}\n",
    "\n",
    "with open('config.json') as config_file:\n",
    "    config = json.load(config_file)\n",
    "    labels = config['labels']\n",
    "    for idx, label in enumerate(labels):\n",
    "        name = label['readable']\n",
    "        l_name = name.lower()\n",
    "        if l_name in ['motorcyclist', 'bicyclist']:\n",
    "            l_name = 'rider'\n",
    "        elif l_name in ['traffic sign (back)', 'traffic sign (front)']:\n",
    "            l_name = 'traffic sign' \n",
    "        \n",
    "        if l_name in bdd_dict:\n",
    "            mapillary_dict[idx] = bdd_dict[l_name]\n",
    "        else:\n",
    "            mapillary_dict[idx] = 255    \n",
    "            \n",
    "print(mapillary_dict)            "
   ]
  },
  {
   "cell_type": "code",
   "execution_count": 10,
   "metadata": {},
   "outputs": [
    {
     "name": "stdout",
     "output_type": "stream",
     "text": [
      "\u001b[0m\u001b[01;34mbdd100k\u001b[0m/\r\n",
      "\u001b[01;31mbdd100k_seg.zip\u001b[0m\r\n",
      "cityscapes_label.py\r\n",
      "\u001b[01;35mcolor_img.jpg\u001b[0m\r\n",
      "\u001b[01;32mconfig.json\u001b[0m*\r\n",
      "\u001b[01;34mdata\u001b[0m/\r\n",
      "Data Inspection after preparing data.ipynb\r\n",
      "\u001b[01;34mgtFine_trainvaltest\u001b[0m/\r\n",
      "\u001b[01;31mgtFine_trainvaltest.zip\u001b[0m\r\n",
      "\u001b[01;35mimg.jpg\u001b[0m\r\n",
      "Initial Data Inspection Demo.ipynb\r\n",
      "\u001b[01;35mlabel.jpg\u001b[0m\r\n",
      "label.py\r\n",
      "\u001b[01;34mleftImg8bit_trainvaltest\u001b[0m/\r\n",
      "\u001b[01;31mleftImg8bit_trainvaltest.zip\u001b[0m\r\n",
      "\u001b[01;34mmapillary-vistas-dataset_public_v1.1\u001b[0m/\r\n",
      "model.py\r\n",
      "Prepare Data.ipynb\r\n",
      "\u001b[01;34m__pycache__\u001b[0m/\r\n",
      "Test.ipynb\r\n",
      "\u001b[01;32mtest.py\u001b[0m*\r\n",
      "\u001b[01;32mtrain.py\u001b[0m*\r\n",
      "utils.py\r\n"
     ]
    }
   ],
   "source": [
    "ls"
   ]
  },
  {
   "cell_type": "code",
   "execution_count": 12,
   "metadata": {},
   "outputs": [
    {
     "name": "stdout",
     "output_type": "stream",
     "text": [
      "{0: 255, 1: 255, 2: 255, 3: 4, 4: 255, 5: 255, 6: 3, 7: 255, 8: 255, 9: 255, 10: 255, 11: 255, 12: 255, 13: 0, 14: 255, 15: 1, 16: 255, 17: 2, 18: 255, 19: 11, 20: 12, 21: 12, 22: 255, 23: 255, 24: 255, 25: 255, 26: 255, 27: 10, 28: 255, 29: 9, 30: 8, 31: 255, 32: 255, 33: 255, 34: 255, 35: 255, 36: 255, 37: 255, 38: 255, 39: 255, 40: 255, 41: 255, 42: 255, 43: 255, 44: 255, 45: 5, 46: 255, 47: 255, 48: 6, 49: 7, 50: 7, 51: 255, 52: 18, 53: 255, 54: 15, 55: 13, 56: 255, 57: 17, 58: 255, 59: 255, 60: 255, 61: 14, 62: 255, 63: 255, 64: 255, 65: 255}\n"
     ]
    }
   ],
   "source": [
    "mapillary_dict = {}\n",
    "\n",
    "with open('config.json') as config_file:\n",
    "    config = json.load(config_file)\n",
    "    labels = config['labels']\n",
    "    for idx, label in enumerate(labels):\n",
    "        name = label['readable']\n",
    "        l_name = name.lower()\n",
    "        if l_name in ['motorcyclist', 'bicyclist']:\n",
    "            l_name = 'rider'\n",
    "        elif l_name in ['traffic sign (back)', 'traffic sign (front)']:\n",
    "            l_name = 'traffic sign' \n",
    "        \n",
    "        if l_name in bdd_dict:\n",
    "            mapillary_dict[idx] = bdd_dict[l_name]\n",
    "        else:\n",
    "            mapillary_dict[idx] = 255    \n",
    "            \n",
    "print(mapillary_dict) "
   ]
  },
  {
   "cell_type": "code",
   "execution_count": 62,
   "metadata": {},
   "outputs": [
    {
     "name": "stdout",
     "output_type": "stream",
     "text": [
      "18000 18000 18000 18000\n",
      "[201 224 172] 17 [70 70 70] 138 2 [70 70 70]\n",
      "(2448, 3264, 3) (2448, 3264) (2448, 3264, 3) (2448, 3264) (2448, 3264) (2448, 3264, 3)\n",
      "uint8 uint8 uint8 uint8 uint8 uint8\n",
      "255 65 255 198 255 255\n",
      "0 2 0 0 0 0\n",
      "Classes in cnv_id image: [  0   1   2   4   5   6   7   8  10  11  12  13  14  15  18 255]\n",
      "Classes in instance image: [ 2  3  7 11 13 15 17 19 20 23 24 27 30 35 41 44 45 48 50 52 54 55 61 65]\n"
     ]
    },
    {
     "data": {
      "image/png": "[encoded data removed]",
      "text/plain": [
       "<Figure size 648x1008 with 6 Axes>"
      ]
     },
     "metadata": {
      "needs_background": "light"
     },
     "output_type": "display_data"
    }
   ],
   "source": [
    "from skimage import img_as_ubyte\n",
    "\n",
    "images_train = sorted(glob.glob('mapillary-vistas-dataset_public_v1.1/training/images/*'))\n",
    "instances_train = sorted(glob.glob('mapillary-vistas-dataset_public_v1.1/training/instances/*'))\n",
    "labels_train = sorted(glob.glob('mapillary-vistas-dataset_public_v1.1/training/labels/*'))\n",
    "panoptic_train = sorted(glob.glob('mapillary-vistas-dataset_public_v1.1/training/panoptic/*.png'))\n",
    "\n",
    "\n",
    "print(len(images_train), len(instances_train), len(labels_train), \n",
    "      len(panoptic_train))\n",
    "\n",
    "idx = 100\n",
    "\n",
    "img = plt.imread(images_train[idx])\n",
    "instance = cv2.imread(instances_train[idx], 0)\n",
    "label = plt.imread(labels_train[idx])\n",
    "label = img_as_ubyte(label)\n",
    "panoptic = cv2.imread(panoptic_train[idx], 0)\n",
    "cnv_id = np.zeros(instance.shape, np.uint8)\n",
    "cnv_color = np.zeros(img.shape, np.uint8)\n",
    "\n",
    "for Id in mapillary_dict:\n",
    "    trainId = mapillary_dict[Id]\n",
    "    cnv_id[instance == Id] = trainId\n",
    "\n",
    "for i in range(len(bdd)):\n",
    "    trainId = bdd[i].trainId\n",
    "    if trainId != 255:\n",
    "        color = bdd[i].color\n",
    "        cnv_color[cnv_id == trainId] = color     \n",
    "        \n",
    "cv2.imwrite('label.jpg', cv2.resize(cnv_id, (1280, 720), \n",
    "                         interpolation=cv2.INTER_NEAREST))\n",
    "\n",
    "# cnv_id_save = Image.fromarray(cnv_id)\n",
    "# cnv_id_save.save('label.jpg')\n",
    "\n",
    "\n",
    "    \n",
    "print(img[0,0], instance[0,0], label[0,0], panoptic[0,0], cnv_id[0,0],\n",
    "      cnv_color[0,0])\n",
    "print(img.shape, instance.shape, label.shape, panoptic.shape, \n",
    "      cnv_id.shape, cnv_color.shape)\n",
    "print(img.dtype, instance.dtype, label.dtype, panoptic.dtype, \n",
    "      cnv_id.dtype, cnv_color.dtype)\n",
    "print(np.max(img), np.max(instance), np.max(label), np.max(panoptic), \n",
    "      np.max(cnv_id), np.max(cnv_color))\n",
    "print(np.min(img), np.min(instance), np.min(label), np.min(panoptic), \n",
    "      np.min(cnv_id), np.min(cnv_color))\n",
    "\n",
    "unique = np.unique(cnv_id)\n",
    "print('Classes in cnv_id image:', unique)\n",
    "\n",
    "unique = np.unique(instance)\n",
    "print('Classes in instance image:', unique)\n",
    "\n",
    "plt.figure(figsize=(9, 14))\n",
    "\n",
    "plt.subplot(6,1,1)\n",
    "plt.imshow(img)\n",
    "plt.axis('off')\n",
    "\n",
    "plt.subplot(6,1,2)\n",
    "plt.imshow(instance)\n",
    "plt.axis('off')\n",
    "\n",
    "plt.subplot(6,1,3)\n",
    "plt.imshow(label)\n",
    "plt.axis('off')    \n",
    "\n",
    "plt.subplot(6,1,4)\n",
    "plt.imshow(panoptic)\n",
    "plt.axis('off')\n",
    "\n",
    "plt.subplot(6,1,5)\n",
    "plt.imshow(cnv_id)\n",
    "plt.axis('off')\n",
    "\n",
    "plt.subplot(6,1,6)\n",
    "plt.imshow(cnv_color)\n",
    "plt.axis('off')\n",
    "\n",
    "plt.show()"
   ]
  },
  {
   "cell_type": "code",
   "execution_count": 70,
   "metadata": {},
   "outputs": [
    {
     "name": "stdout",
     "output_type": "stream",
     "text": [
      "(2448, 3264)\n",
      "Classes in label image: [  0   1   2   4   5   6   7   8  10  11  12  13  14  15  18 255]\n"
     ]
    },
    {
     "data": {
      "image/png": "[encoded data removed]",
      "text/plain": [
       "<Figure size 432x288 with 1 Axes>"
      ]
     },
     "metadata": {
      "needs_background": "light"
     },
     "output_type": "display_data"
    }
   ],
   "source": [
    "img = cv2.imread('label.png', 0)\n",
    "print(img.shape)\n",
    "unique, counts = np.unique(img, return_counts=True)\n",
    "print('Classes in label image:', unique) \n",
    "plt.imshow(img)\n",
    "plt.show()"
   ]
  },
  {
   "cell_type": "code",
   "execution_count": 53,
   "metadata": {},
   "outputs": [],
   "source": [
    "x, y = np.where(img == 247)"
   ]
  },
  {
   "cell_type": "code",
   "execution_count": 54,
   "metadata": {},
   "outputs": [
    {
     "data": {
      "text/plain": [
       "array([247], dtype=uint8)"
      ]
     },
     "execution_count": 54,
     "metadata": {},
     "output_type": "execute_result"
    }
   ],
   "source": [
    "img[x, y]"
   ]
  },
  {
   "cell_type": "code",
   "execution_count": 41,
   "metadata": {},
   "outputs": [
    {
     "name": "stdout",
     "output_type": "stream",
     "text": [
      "Classes in label image: [0]\n",
      "(720, 1280)\n"
     ]
    }
   ],
   "source": [
    "from PIL import Image\n",
    "\n",
    "img = Image.open('label.jpg')\n",
    "img = np.array(img)\n",
    "unique = np.unique(img)\n",
    "print('Classes in label image:', unique) \n",
    "print(img.shape)"
   ]
  },
  {
   "cell_type": "code",
   "execution_count": 40,
   "metadata": {},
   "outputs": [],
   "source": [
    "img = Image.fromarray(img)\n",
    "img.save('pil.jpg')"
   ]
  },
  {
   "cell_type": "code",
   "execution_count": null,
   "metadata": {},
   "outputs": [],
   "source": []
  }
 ],
 "metadata": {
  "kernelspec": {
   "display_name": "Python 3",
   "language": "python",
   "name": "python3"
  },
  "language_info": {
   "codemirror_mode": {
    "name": "ipython",
    "version": 3
   },
   "file_extension": ".py",
   "mimetype": "text/x-python",
   "name": "python",
   "nbconvert_exporter": "python",
   "pygments_lexer": "ipython3",
   "version": "3.6.6"
  }
 },
 "nbformat": 4,
 "nbformat_minor": 2
}
